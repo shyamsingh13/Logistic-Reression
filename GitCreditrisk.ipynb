{
 "cells": [
  {
   "cell_type": "markdown",
   "id": "b2a224d8",
   "metadata": {},
   "source": [
    "# CreditRisk data"
   ]
  },
  {
   "cell_type": "code",
   "execution_count": 1,
   "id": "5e314e11",
   "metadata": {},
   "outputs": [],
   "source": [
    "# loading the necessary libraries\n",
    "\n",
    "import pandas as pd\n",
    "import numpy as np\n",
    "from sklearn.linear_model import LinearRegression\n",
    "from sklearn.preprocessing import LabelEncoder\n",
    "import matplotlib.pyplot as plt\n",
    "import seaborn as sns"
   ]
  },
  {
   "cell_type": "code",
   "execution_count": 2,
   "id": "035cda76",
   "metadata": {},
   "outputs": [],
   "source": [
    "cr = pd.read_csv(r\"F:\\carreer\\CreditRisk.csv\")\n",
    "\n",
    "# reading a file\n",
    "# location, file name , type of the file"
   ]
  },
  {
   "cell_type": "code",
   "execution_count": 3,
   "id": "ad0b9abc",
   "metadata": {},
   "outputs": [
    {
     "data": {
      "text/plain": [
       "(981, 13)"
      ]
     },
     "execution_count": 3,
     "metadata": {},
     "output_type": "execute_result"
    }
   ],
   "source": [
    "cr.shape # num rows and num of columns"
   ]
  },
  {
   "cell_type": "code",
   "execution_count": 4,
   "id": "e9f89315",
   "metadata": {},
   "outputs": [
    {
     "data": {
      "text/html": [
       "<div>\n",
       "<style scoped>\n",
       "    .dataframe tbody tr th:only-of-type {\n",
       "        vertical-align: middle;\n",
       "    }\n",
       "\n",
       "    .dataframe tbody tr th {\n",
       "        vertical-align: top;\n",
       "    }\n",
       "\n",
       "    .dataframe thead th {\n",
       "        text-align: right;\n",
       "    }\n",
       "</style>\n",
       "<table border=\"1\" class=\"dataframe\">\n",
       "  <thead>\n",
       "    <tr style=\"text-align: right;\">\n",
       "      <th></th>\n",
       "      <th>Loan_ID</th>\n",
       "      <th>Gender</th>\n",
       "      <th>Married</th>\n",
       "      <th>Dependents</th>\n",
       "      <th>Education</th>\n",
       "      <th>Self_Employed</th>\n",
       "      <th>ApplicantIncome</th>\n",
       "      <th>CoapplicantIncome</th>\n",
       "      <th>LoanAmount</th>\n",
       "      <th>Loan_Amount_Term</th>\n",
       "      <th>Credit_History</th>\n",
       "      <th>Property_Area</th>\n",
       "      <th>Loan_Status</th>\n",
       "    </tr>\n",
       "  </thead>\n",
       "  <tbody>\n",
       "    <tr>\n",
       "      <th>0</th>\n",
       "      <td>LP001002</td>\n",
       "      <td>Male</td>\n",
       "      <td>No</td>\n",
       "      <td>0.0</td>\n",
       "      <td>Graduate</td>\n",
       "      <td>No</td>\n",
       "      <td>5849</td>\n",
       "      <td>0.0</td>\n",
       "      <td>NaN</td>\n",
       "      <td>360.0</td>\n",
       "      <td>1.0</td>\n",
       "      <td>Urban</td>\n",
       "      <td>Y</td>\n",
       "    </tr>\n",
       "    <tr>\n",
       "      <th>1</th>\n",
       "      <td>LP001003</td>\n",
       "      <td>Male</td>\n",
       "      <td>Yes</td>\n",
       "      <td>1.0</td>\n",
       "      <td>Graduate</td>\n",
       "      <td>No</td>\n",
       "      <td>4583</td>\n",
       "      <td>1508.0</td>\n",
       "      <td>128.0</td>\n",
       "      <td>360.0</td>\n",
       "      <td>1.0</td>\n",
       "      <td>Rural</td>\n",
       "      <td>N</td>\n",
       "    </tr>\n",
       "    <tr>\n",
       "      <th>2</th>\n",
       "      <td>LP001005</td>\n",
       "      <td>Male</td>\n",
       "      <td>Yes</td>\n",
       "      <td>0.0</td>\n",
       "      <td>Graduate</td>\n",
       "      <td>Yes</td>\n",
       "      <td>3000</td>\n",
       "      <td>0.0</td>\n",
       "      <td>66.0</td>\n",
       "      <td>360.0</td>\n",
       "      <td>1.0</td>\n",
       "      <td>Urban</td>\n",
       "      <td>Y</td>\n",
       "    </tr>\n",
       "    <tr>\n",
       "      <th>3</th>\n",
       "      <td>LP001006</td>\n",
       "      <td>Male</td>\n",
       "      <td>Yes</td>\n",
       "      <td>0.0</td>\n",
       "      <td>Not Graduate</td>\n",
       "      <td>No</td>\n",
       "      <td>2583</td>\n",
       "      <td>2358.0</td>\n",
       "      <td>120.0</td>\n",
       "      <td>360.0</td>\n",
       "      <td>1.0</td>\n",
       "      <td>Urban</td>\n",
       "      <td>Y</td>\n",
       "    </tr>\n",
       "    <tr>\n",
       "      <th>4</th>\n",
       "      <td>LP001008</td>\n",
       "      <td>Male</td>\n",
       "      <td>No</td>\n",
       "      <td>0.0</td>\n",
       "      <td>Graduate</td>\n",
       "      <td>No</td>\n",
       "      <td>6000</td>\n",
       "      <td>0.0</td>\n",
       "      <td>141.0</td>\n",
       "      <td>360.0</td>\n",
       "      <td>1.0</td>\n",
       "      <td>Urban</td>\n",
       "      <td>Y</td>\n",
       "    </tr>\n",
       "  </tbody>\n",
       "</table>\n",
       "</div>"
      ],
      "text/plain": [
       "    Loan_ID Gender Married  Dependents     Education Self_Employed  \\\n",
       "0  LP001002   Male      No         0.0      Graduate            No   \n",
       "1  LP001003   Male     Yes         1.0      Graduate            No   \n",
       "2  LP001005   Male     Yes         0.0      Graduate           Yes   \n",
       "3  LP001006   Male     Yes         0.0  Not Graduate            No   \n",
       "4  LP001008   Male      No         0.0      Graduate            No   \n",
       "\n",
       "   ApplicantIncome  CoapplicantIncome  LoanAmount  Loan_Amount_Term  \\\n",
       "0             5849                0.0         NaN             360.0   \n",
       "1             4583             1508.0       128.0             360.0   \n",
       "2             3000                0.0        66.0             360.0   \n",
       "3             2583             2358.0       120.0             360.0   \n",
       "4             6000                0.0       141.0             360.0   \n",
       "\n",
       "   Credit_History Property_Area Loan_Status  \n",
       "0             1.0         Urban           Y  \n",
       "1             1.0         Rural           N  \n",
       "2             1.0         Urban           Y  \n",
       "3             1.0         Urban           Y  \n",
       "4             1.0         Urban           Y  "
      ]
     },
     "execution_count": 4,
     "metadata": {},
     "output_type": "execute_result"
    }
   ],
   "source": [
    "cr.head() # reviewing the data"
   ]
  },
  {
   "cell_type": "code",
   "execution_count": 5,
   "id": "13b11eff",
   "metadata": {},
   "outputs": [],
   "source": [
    "# Problem statement\n",
    "# bank want to build predictive model \n",
    "#which it can use for approval / rejection of loan."
   ]
  },
  {
   "cell_type": "markdown",
   "id": "f73d08b7",
   "metadata": {},
   "source": [
    "# data cleaning"
   ]
  },
  {
   "cell_type": "code",
   "execution_count": 7,
   "id": "9fbb5299",
   "metadata": {
    "scrolled": true
   },
   "outputs": [
    {
     "data": {
      "text/plain": [
       "Loan_ID               0\n",
       "Gender               24\n",
       "Married               3\n",
       "Dependents           25\n",
       "Education             0\n",
       "Self_Employed        55\n",
       "ApplicantIncome       0\n",
       "CoapplicantIncome     0\n",
       "LoanAmount           27\n",
       "Loan_Amount_Term     20\n",
       "Credit_History       79\n",
       "Property_Area         0\n",
       "Loan_Status           0\n",
       "dtype: int64"
      ]
     },
     "execution_count": 7,
     "metadata": {},
     "output_type": "execute_result"
    }
   ],
   "source": [
    "\n",
    "cr.isnull().sum()"
   ]
  },
  {
   "cell_type": "code",
   "execution_count": 8,
   "id": "5cd33520",
   "metadata": {},
   "outputs": [],
   "source": [
    "cr.Gender = cr.Gender.fillna(\"Male\")\n",
    "cr.LoanAmount = cr.LoanAmount.fillna(cr.LoanAmount.mean())\n",
    "cr.Married = cr.Married.fillna(\"Yes\")\n",
    "cr.Dependents = cr.Dependents.fillna(cr.Dependents.median())\n",
    "cr.Self_Employed = cr.Self_Employed.fillna(\"No\")\n",
    "cr.Loan_Amount_Term = cr.Loan_Amount_Term.fillna(cr.Loan_Amount_Term.median())\n",
    "cr.Credit_History = cr.Credit_History.fillna(0.0)\n"
   ]
  },
  {
   "cell_type": "code",
   "execution_count": 9,
   "id": "c5c17489",
   "metadata": {
    "scrolled": true
   },
   "outputs": [
    {
     "name": "stdout",
     "output_type": "stream",
     "text": [
      "<class 'pandas.core.frame.DataFrame'>\n",
      "RangeIndex: 981 entries, 0 to 980\n",
      "Data columns (total 13 columns):\n",
      " #   Column             Non-Null Count  Dtype  \n",
      "---  ------             --------------  -----  \n",
      " 0   Loan_ID            981 non-null    object \n",
      " 1   Gender             981 non-null    object \n",
      " 2   Married            981 non-null    object \n",
      " 3   Dependents         981 non-null    float64\n",
      " 4   Education          981 non-null    object \n",
      " 5   Self_Employed      981 non-null    object \n",
      " 6   ApplicantIncome    981 non-null    int64  \n",
      " 7   CoapplicantIncome  981 non-null    float64\n",
      " 8   LoanAmount         981 non-null    float64\n",
      " 9   Loan_Amount_Term   981 non-null    float64\n",
      " 10  Credit_History     981 non-null    float64\n",
      " 11  Property_Area      981 non-null    object \n",
      " 12  Loan_Status        981 non-null    object \n",
      "dtypes: float64(5), int64(1), object(7)\n",
      "memory usage: 99.8+ KB\n"
     ]
    }
   ],
   "source": [
    "cr.info()"
   ]
  },
  {
   "cell_type": "code",
   "execution_count": 10,
   "id": "ba972eb9",
   "metadata": {},
   "outputs": [],
   "source": [
    "cr.Loan_Status.replace({'Y':1, \"N\":0}, inplace=True)\n"
   ]
  },
  {
   "cell_type": "code",
   "execution_count": 11,
   "id": "f954b778",
   "metadata": {},
   "outputs": [
    {
     "data": {
      "text/html": [
       "<div>\n",
       "<style scoped>\n",
       "    .dataframe tbody tr th:only-of-type {\n",
       "        vertical-align: middle;\n",
       "    }\n",
       "\n",
       "    .dataframe tbody tr th {\n",
       "        vertical-align: top;\n",
       "    }\n",
       "\n",
       "    .dataframe thead th {\n",
       "        text-align: right;\n",
       "    }\n",
       "</style>\n",
       "<table border=\"1\" class=\"dataframe\">\n",
       "  <thead>\n",
       "    <tr style=\"text-align: right;\">\n",
       "      <th></th>\n",
       "      <th>Loan_ID</th>\n",
       "      <th>Gender</th>\n",
       "      <th>Married</th>\n",
       "      <th>Dependents</th>\n",
       "      <th>Education</th>\n",
       "      <th>Self_Employed</th>\n",
       "      <th>ApplicantIncome</th>\n",
       "      <th>CoapplicantIncome</th>\n",
       "      <th>LoanAmount</th>\n",
       "      <th>Loan_Amount_Term</th>\n",
       "      <th>Credit_History</th>\n",
       "      <th>Property_Area</th>\n",
       "      <th>Loan_Status</th>\n",
       "    </tr>\n",
       "  </thead>\n",
       "  <tbody>\n",
       "    <tr>\n",
       "      <th>0</th>\n",
       "      <td>LP001002</td>\n",
       "      <td>Male</td>\n",
       "      <td>No</td>\n",
       "      <td>0.0</td>\n",
       "      <td>Graduate</td>\n",
       "      <td>No</td>\n",
       "      <td>5849</td>\n",
       "      <td>0.0</td>\n",
       "      <td>142.51153</td>\n",
       "      <td>360.0</td>\n",
       "      <td>1.0</td>\n",
       "      <td>Urban</td>\n",
       "      <td>1</td>\n",
       "    </tr>\n",
       "    <tr>\n",
       "      <th>1</th>\n",
       "      <td>LP001003</td>\n",
       "      <td>Male</td>\n",
       "      <td>Yes</td>\n",
       "      <td>1.0</td>\n",
       "      <td>Graduate</td>\n",
       "      <td>No</td>\n",
       "      <td>4583</td>\n",
       "      <td>1508.0</td>\n",
       "      <td>128.00000</td>\n",
       "      <td>360.0</td>\n",
       "      <td>1.0</td>\n",
       "      <td>Rural</td>\n",
       "      <td>0</td>\n",
       "    </tr>\n",
       "    <tr>\n",
       "      <th>2</th>\n",
       "      <td>LP001005</td>\n",
       "      <td>Male</td>\n",
       "      <td>Yes</td>\n",
       "      <td>0.0</td>\n",
       "      <td>Graduate</td>\n",
       "      <td>Yes</td>\n",
       "      <td>3000</td>\n",
       "      <td>0.0</td>\n",
       "      <td>66.00000</td>\n",
       "      <td>360.0</td>\n",
       "      <td>1.0</td>\n",
       "      <td>Urban</td>\n",
       "      <td>1</td>\n",
       "    </tr>\n",
       "    <tr>\n",
       "      <th>3</th>\n",
       "      <td>LP001006</td>\n",
       "      <td>Male</td>\n",
       "      <td>Yes</td>\n",
       "      <td>0.0</td>\n",
       "      <td>Not Graduate</td>\n",
       "      <td>No</td>\n",
       "      <td>2583</td>\n",
       "      <td>2358.0</td>\n",
       "      <td>120.00000</td>\n",
       "      <td>360.0</td>\n",
       "      <td>1.0</td>\n",
       "      <td>Urban</td>\n",
       "      <td>1</td>\n",
       "    </tr>\n",
       "    <tr>\n",
       "      <th>4</th>\n",
       "      <td>LP001008</td>\n",
       "      <td>Male</td>\n",
       "      <td>No</td>\n",
       "      <td>0.0</td>\n",
       "      <td>Graduate</td>\n",
       "      <td>No</td>\n",
       "      <td>6000</td>\n",
       "      <td>0.0</td>\n",
       "      <td>141.00000</td>\n",
       "      <td>360.0</td>\n",
       "      <td>1.0</td>\n",
       "      <td>Urban</td>\n",
       "      <td>1</td>\n",
       "    </tr>\n",
       "  </tbody>\n",
       "</table>\n",
       "</div>"
      ],
      "text/plain": [
       "    Loan_ID Gender Married  Dependents     Education Self_Employed  \\\n",
       "0  LP001002   Male      No         0.0      Graduate            No   \n",
       "1  LP001003   Male     Yes         1.0      Graduate            No   \n",
       "2  LP001005   Male     Yes         0.0      Graduate           Yes   \n",
       "3  LP001006   Male     Yes         0.0  Not Graduate            No   \n",
       "4  LP001008   Male      No         0.0      Graduate            No   \n",
       "\n",
       "   ApplicantIncome  CoapplicantIncome  LoanAmount  Loan_Amount_Term  \\\n",
       "0             5849                0.0   142.51153             360.0   \n",
       "1             4583             1508.0   128.00000             360.0   \n",
       "2             3000                0.0    66.00000             360.0   \n",
       "3             2583             2358.0   120.00000             360.0   \n",
       "4             6000                0.0   141.00000             360.0   \n",
       "\n",
       "   Credit_History Property_Area  Loan_Status  \n",
       "0             1.0         Urban            1  \n",
       "1             1.0         Rural            0  \n",
       "2             1.0         Urban            1  \n",
       "3             1.0         Urban            1  \n",
       "4             1.0         Urban            1  "
      ]
     },
     "execution_count": 11,
     "metadata": {},
     "output_type": "execute_result"
    }
   ],
   "source": [
    "cr.head()"
   ]
  },
  {
   "cell_type": "code",
   "execution_count": 12,
   "id": "19811331",
   "metadata": {},
   "outputs": [],
   "source": [
    "cr = cr.drop(['Loan_ID'], axis = 1)"
   ]
  },
  {
   "cell_type": "code",
   "execution_count": 13,
   "id": "e68e73c3",
   "metadata": {},
   "outputs": [
    {
     "data": {
      "text/html": [
       "<div>\n",
       "<style scoped>\n",
       "    .dataframe tbody tr th:only-of-type {\n",
       "        vertical-align: middle;\n",
       "    }\n",
       "\n",
       "    .dataframe tbody tr th {\n",
       "        vertical-align: top;\n",
       "    }\n",
       "\n",
       "    .dataframe thead th {\n",
       "        text-align: right;\n",
       "    }\n",
       "</style>\n",
       "<table border=\"1\" class=\"dataframe\">\n",
       "  <thead>\n",
       "    <tr style=\"text-align: right;\">\n",
       "      <th></th>\n",
       "      <th>Gender</th>\n",
       "      <th>Married</th>\n",
       "      <th>Dependents</th>\n",
       "      <th>Education</th>\n",
       "      <th>Self_Employed</th>\n",
       "      <th>ApplicantIncome</th>\n",
       "      <th>CoapplicantIncome</th>\n",
       "      <th>LoanAmount</th>\n",
       "      <th>Loan_Amount_Term</th>\n",
       "      <th>Credit_History</th>\n",
       "      <th>Property_Area</th>\n",
       "      <th>Loan_Status</th>\n",
       "    </tr>\n",
       "  </thead>\n",
       "  <tbody>\n",
       "    <tr>\n",
       "      <th>0</th>\n",
       "      <td>Male</td>\n",
       "      <td>No</td>\n",
       "      <td>0.0</td>\n",
       "      <td>Graduate</td>\n",
       "      <td>No</td>\n",
       "      <td>5849</td>\n",
       "      <td>0.0</td>\n",
       "      <td>142.51153</td>\n",
       "      <td>360.0</td>\n",
       "      <td>1.0</td>\n",
       "      <td>Urban</td>\n",
       "      <td>1</td>\n",
       "    </tr>\n",
       "    <tr>\n",
       "      <th>1</th>\n",
       "      <td>Male</td>\n",
       "      <td>Yes</td>\n",
       "      <td>1.0</td>\n",
       "      <td>Graduate</td>\n",
       "      <td>No</td>\n",
       "      <td>4583</td>\n",
       "      <td>1508.0</td>\n",
       "      <td>128.00000</td>\n",
       "      <td>360.0</td>\n",
       "      <td>1.0</td>\n",
       "      <td>Rural</td>\n",
       "      <td>0</td>\n",
       "    </tr>\n",
       "    <tr>\n",
       "      <th>2</th>\n",
       "      <td>Male</td>\n",
       "      <td>Yes</td>\n",
       "      <td>0.0</td>\n",
       "      <td>Graduate</td>\n",
       "      <td>Yes</td>\n",
       "      <td>3000</td>\n",
       "      <td>0.0</td>\n",
       "      <td>66.00000</td>\n",
       "      <td>360.0</td>\n",
       "      <td>1.0</td>\n",
       "      <td>Urban</td>\n",
       "      <td>1</td>\n",
       "    </tr>\n",
       "    <tr>\n",
       "      <th>3</th>\n",
       "      <td>Male</td>\n",
       "      <td>Yes</td>\n",
       "      <td>0.0</td>\n",
       "      <td>Not Graduate</td>\n",
       "      <td>No</td>\n",
       "      <td>2583</td>\n",
       "      <td>2358.0</td>\n",
       "      <td>120.00000</td>\n",
       "      <td>360.0</td>\n",
       "      <td>1.0</td>\n",
       "      <td>Urban</td>\n",
       "      <td>1</td>\n",
       "    </tr>\n",
       "    <tr>\n",
       "      <th>4</th>\n",
       "      <td>Male</td>\n",
       "      <td>No</td>\n",
       "      <td>0.0</td>\n",
       "      <td>Graduate</td>\n",
       "      <td>No</td>\n",
       "      <td>6000</td>\n",
       "      <td>0.0</td>\n",
       "      <td>141.00000</td>\n",
       "      <td>360.0</td>\n",
       "      <td>1.0</td>\n",
       "      <td>Urban</td>\n",
       "      <td>1</td>\n",
       "    </tr>\n",
       "  </tbody>\n",
       "</table>\n",
       "</div>"
      ],
      "text/plain": [
       "  Gender Married  Dependents     Education Self_Employed  ApplicantIncome  \\\n",
       "0   Male      No         0.0      Graduate            No             5849   \n",
       "1   Male     Yes         1.0      Graduate            No             4583   \n",
       "2   Male     Yes         0.0      Graduate           Yes             3000   \n",
       "3   Male     Yes         0.0  Not Graduate            No             2583   \n",
       "4   Male      No         0.0      Graduate            No             6000   \n",
       "\n",
       "   CoapplicantIncome  LoanAmount  Loan_Amount_Term  Credit_History  \\\n",
       "0                0.0   142.51153             360.0             1.0   \n",
       "1             1508.0   128.00000             360.0             1.0   \n",
       "2                0.0    66.00000             360.0             1.0   \n",
       "3             2358.0   120.00000             360.0             1.0   \n",
       "4                0.0   141.00000             360.0             1.0   \n",
       "\n",
       "  Property_Area  Loan_Status  \n",
       "0         Urban            1  \n",
       "1         Rural            0  \n",
       "2         Urban            1  \n",
       "3         Urban            1  \n",
       "4         Urban            1  "
      ]
     },
     "execution_count": 13,
     "metadata": {},
     "output_type": "execute_result"
    }
   ],
   "source": [
    "cr.head()"
   ]
  },
  {
   "cell_type": "markdown",
   "id": "0c0d4852",
   "metadata": {},
   "source": [
    "# Non numeric to numeric"
   ]
  },
  {
   "cell_type": "code",
   "execution_count": 14,
   "id": "4d4e4c9a",
   "metadata": {},
   "outputs": [],
   "source": [
    "# loading lib for cornverting non-numeric to numeric using Label encoding\n",
    "\n",
    "from sklearn.preprocessing import LabelEncoder\n",
    "le = LabelEncoder()"
   ]
  },
  {
   "cell_type": "code",
   "execution_count": 15,
   "id": "9b03abe5",
   "metadata": {},
   "outputs": [],
   "source": [
    "# doing it manually for each and every variable one by one\n",
    "# but can be using one line code also\n",
    "\n",
    "cr.Education = le.fit_transform(cr.Education)\n",
    "cr.Self_Employed = le.fit_transform(cr.Self_Employed)\n",
    "cr.Property_Area = le.fit_transform(cr.Property_Area)\n",
    "cr.Married = le.fit_transform(cr.Married)\n",
    "cr.Gender = le.fit_transform(cr.Gender)"
   ]
  },
  {
   "cell_type": "code",
   "execution_count": 16,
   "id": "572a4564",
   "metadata": {
    "scrolled": true
   },
   "outputs": [
    {
     "data": {
      "text/html": [
       "<div>\n",
       "<style scoped>\n",
       "    .dataframe tbody tr th:only-of-type {\n",
       "        vertical-align: middle;\n",
       "    }\n",
       "\n",
       "    .dataframe tbody tr th {\n",
       "        vertical-align: top;\n",
       "    }\n",
       "\n",
       "    .dataframe thead th {\n",
       "        text-align: right;\n",
       "    }\n",
       "</style>\n",
       "<table border=\"1\" class=\"dataframe\">\n",
       "  <thead>\n",
       "    <tr style=\"text-align: right;\">\n",
       "      <th></th>\n",
       "      <th>Gender</th>\n",
       "      <th>Married</th>\n",
       "      <th>Dependents</th>\n",
       "      <th>Education</th>\n",
       "      <th>Self_Employed</th>\n",
       "      <th>ApplicantIncome</th>\n",
       "      <th>CoapplicantIncome</th>\n",
       "      <th>LoanAmount</th>\n",
       "      <th>Loan_Amount_Term</th>\n",
       "      <th>Credit_History</th>\n",
       "      <th>Property_Area</th>\n",
       "      <th>Loan_Status</th>\n",
       "    </tr>\n",
       "  </thead>\n",
       "  <tbody>\n",
       "    <tr>\n",
       "      <th>0</th>\n",
       "      <td>1</td>\n",
       "      <td>0</td>\n",
       "      <td>0.0</td>\n",
       "      <td>0</td>\n",
       "      <td>0</td>\n",
       "      <td>5849</td>\n",
       "      <td>0.0</td>\n",
       "      <td>142.51153</td>\n",
       "      <td>360.0</td>\n",
       "      <td>1.0</td>\n",
       "      <td>2</td>\n",
       "      <td>1</td>\n",
       "    </tr>\n",
       "    <tr>\n",
       "      <th>1</th>\n",
       "      <td>1</td>\n",
       "      <td>1</td>\n",
       "      <td>1.0</td>\n",
       "      <td>0</td>\n",
       "      <td>0</td>\n",
       "      <td>4583</td>\n",
       "      <td>1508.0</td>\n",
       "      <td>128.00000</td>\n",
       "      <td>360.0</td>\n",
       "      <td>1.0</td>\n",
       "      <td>0</td>\n",
       "      <td>0</td>\n",
       "    </tr>\n",
       "    <tr>\n",
       "      <th>2</th>\n",
       "      <td>1</td>\n",
       "      <td>1</td>\n",
       "      <td>0.0</td>\n",
       "      <td>0</td>\n",
       "      <td>1</td>\n",
       "      <td>3000</td>\n",
       "      <td>0.0</td>\n",
       "      <td>66.00000</td>\n",
       "      <td>360.0</td>\n",
       "      <td>1.0</td>\n",
       "      <td>2</td>\n",
       "      <td>1</td>\n",
       "    </tr>\n",
       "    <tr>\n",
       "      <th>3</th>\n",
       "      <td>1</td>\n",
       "      <td>1</td>\n",
       "      <td>0.0</td>\n",
       "      <td>1</td>\n",
       "      <td>0</td>\n",
       "      <td>2583</td>\n",
       "      <td>2358.0</td>\n",
       "      <td>120.00000</td>\n",
       "      <td>360.0</td>\n",
       "      <td>1.0</td>\n",
       "      <td>2</td>\n",
       "      <td>1</td>\n",
       "    </tr>\n",
       "    <tr>\n",
       "      <th>4</th>\n",
       "      <td>1</td>\n",
       "      <td>0</td>\n",
       "      <td>0.0</td>\n",
       "      <td>0</td>\n",
       "      <td>0</td>\n",
       "      <td>6000</td>\n",
       "      <td>0.0</td>\n",
       "      <td>141.00000</td>\n",
       "      <td>360.0</td>\n",
       "      <td>1.0</td>\n",
       "      <td>2</td>\n",
       "      <td>1</td>\n",
       "    </tr>\n",
       "  </tbody>\n",
       "</table>\n",
       "</div>"
      ],
      "text/plain": [
       "   Gender  Married  Dependents  Education  Self_Employed  ApplicantIncome  \\\n",
       "0       1        0         0.0          0              0             5849   \n",
       "1       1        1         1.0          0              0             4583   \n",
       "2       1        1         0.0          0              1             3000   \n",
       "3       1        1         0.0          1              0             2583   \n",
       "4       1        0         0.0          0              0             6000   \n",
       "\n",
       "   CoapplicantIncome  LoanAmount  Loan_Amount_Term  Credit_History  \\\n",
       "0                0.0   142.51153             360.0             1.0   \n",
       "1             1508.0   128.00000             360.0             1.0   \n",
       "2                0.0    66.00000             360.0             1.0   \n",
       "3             2358.0   120.00000             360.0             1.0   \n",
       "4                0.0   141.00000             360.0             1.0   \n",
       "\n",
       "   Property_Area  Loan_Status  \n",
       "0              2            1  \n",
       "1              0            0  \n",
       "2              2            1  \n",
       "3              2            1  \n",
       "4              2            1  "
      ]
     },
     "execution_count": 16,
     "metadata": {},
     "output_type": "execute_result"
    }
   ],
   "source": [
    "cr.head()"
   ]
  },
  {
   "cell_type": "code",
   "execution_count": 17,
   "id": "7e0a22f8",
   "metadata": {},
   "outputs": [
    {
     "data": {
      "text/plain": [
       "Gender               0\n",
       "Married              0\n",
       "Dependents           0\n",
       "Education            0\n",
       "Self_Employed        0\n",
       "ApplicantIncome      0\n",
       "CoapplicantIncome    0\n",
       "LoanAmount           0\n",
       "Loan_Amount_Term     0\n",
       "Credit_History       0\n",
       "Property_Area        0\n",
       "Loan_Status          0\n",
       "dtype: int64"
      ]
     },
     "execution_count": 17,
     "metadata": {},
     "output_type": "execute_result"
    }
   ],
   "source": [
    "cr.isnull().sum()"
   ]
  },
  {
   "cell_type": "code",
   "execution_count": null,
   "id": "fc3e7961",
   "metadata": {},
   "outputs": [],
   "source": [
    "Data "
   ]
  },
  {
   "cell_type": "code",
   "execution_count": 18,
   "id": "d7a0ecac",
   "metadata": {},
   "outputs": [],
   "source": [
    "from sklearn.model_selection import train_test_split"
   ]
  },
  {
   "cell_type": "code",
   "execution_count": 19,
   "id": "9e3e38f9",
   "metadata": {},
   "outputs": [],
   "source": [
    "train_cr , test_cr = train_test_split(cr,test_size = .2)"
   ]
  },
  {
   "cell_type": "code",
   "execution_count": 20,
   "id": "a16a355a",
   "metadata": {},
   "outputs": [],
   "source": [
    "train_cr_x = train_cr.iloc[: , 0:-1]\n",
    "train_cr_y = train_cr.iloc[: , -1]"
   ]
  },
  {
   "cell_type": "code",
   "execution_count": 21,
   "id": "e86aa7c5",
   "metadata": {},
   "outputs": [],
   "source": [
    "test_cr_x = test_cr.iloc[: , 0:-1]\n",
    "test_cr_y = test_cr.iloc[: , -1]"
   ]
  },
  {
   "cell_type": "code",
   "execution_count": 22,
   "id": "2e3ac249",
   "metadata": {},
   "outputs": [],
   "source": [
    "# how did we build linear regression\n",
    "# we imported some fucnntion from sklearn\n",
    "# we created the object of it\n",
    "# fit function (build model) (x,y)\n",
    "# then we did prediction"
   ]
  },
  {
   "cell_type": "markdown",
   "id": "0d09e9f4",
   "metadata": {},
   "source": [
    "# Building the model"
   ]
  },
  {
   "cell_type": "code",
   "execution_count": 23,
   "id": "057c7f6d",
   "metadata": {},
   "outputs": [],
   "source": [
    "from sklearn.linear_model import LogisticRegression"
   ]
  },
  {
   "cell_type": "code",
   "execution_count": 24,
   "id": "1ac16cb8",
   "metadata": {},
   "outputs": [],
   "source": [
    "log_cr = LogisticRegression()"
   ]
  },
  {
   "cell_type": "code",
   "execution_count": 25,
   "id": "497cbac1",
   "metadata": {},
   "outputs": [
    {
     "name": "stderr",
     "output_type": "stream",
     "text": [
      "C:\\Users\\Shyam Singh\\AppData\\Local\\Programs\\Python\\Python310\\lib\\site-packages\\sklearn\\linear_model\\_logistic.py:458: ConvergenceWarning: lbfgs failed to converge (status=1):\n",
      "STOP: TOTAL NO. of ITERATIONS REACHED LIMIT.\n",
      "\n",
      "Increase the number of iterations (max_iter) or scale the data as shown in:\n",
      "    https://scikit-learn.org/stable/modules/preprocessing.html\n",
      "Please also refer to the documentation for alternative solver options:\n",
      "    https://scikit-learn.org/stable/modules/linear_model.html#logistic-regression\n",
      "  n_iter_i = _check_optimize_result(\n"
     ]
    }
   ],
   "source": [
    "log_cr.fit(train_cr_x , train_cr_y); # model has been build"
   ]
  },
  {
   "cell_type": "code",
   "execution_count": 26,
   "id": "7d309afa",
   "metadata": {},
   "outputs": [],
   "source": [
    "pred = log_cr.predict(test_cr_x) # predicting on test data"
   ]
  },
  {
   "cell_type": "code",
   "execution_count": 27,
   "id": "099cc628",
   "metadata": {},
   "outputs": [
    {
     "data": {
      "text/plain": [
       "array([1, 0, 1, 1, 1, 1, 1, 1, 0, 1, 1, 1, 1, 1, 1, 1, 1, 1, 1, 1, 1, 1,\n",
       "       1, 1, 1, 1, 1, 0, 1, 1, 0, 0, 1, 1, 1, 1, 0, 0, 1, 1, 1, 1, 1, 1,\n",
       "       1, 1, 1, 0, 1, 0, 1, 1, 0, 1, 1, 1, 1, 0, 1, 0, 1, 1, 1, 1, 1, 1,\n",
       "       1, 1, 0, 1, 1, 1, 0, 1, 1, 1, 1, 1, 1, 1, 1, 1, 0, 1, 1, 1, 1, 1,\n",
       "       0, 1, 1, 1, 1, 1, 0, 1, 1, 1, 1, 0, 0, 1, 1, 1, 1, 1, 1, 1, 0, 1,\n",
       "       1, 1, 0, 0, 1, 0, 1, 1, 1, 1, 1, 1, 1, 1, 1, 1, 0, 1, 1, 1, 1, 1,\n",
       "       1, 1, 1, 1, 1, 1, 1, 0, 0, 1, 1, 1, 1, 1, 1, 1, 1, 1, 1, 0, 0, 1,\n",
       "       1, 1, 0, 1, 0, 1, 1, 1, 1, 1, 1, 1, 1, 1, 1, 1, 1, 1, 1, 0, 0, 1,\n",
       "       1, 1, 0, 0, 1, 1, 0, 1, 0, 0, 1, 1, 1, 0, 1, 1, 1, 1, 1, 1, 1],\n",
       "      dtype=int64)"
      ]
     },
     "execution_count": 27,
     "metadata": {},
     "output_type": "execute_result"
    }
   ],
   "source": [
    "pred"
   ]
  },
  {
   "cell_type": "code",
   "execution_count": 28,
   "id": "e29fefb8",
   "metadata": {},
   "outputs": [
    {
     "data": {
      "text/plain": [
       "197"
      ]
     },
     "execution_count": 28,
     "metadata": {},
     "output_type": "execute_result"
    }
   ],
   "source": [
    "len(pred) # record in test data"
   ]
  },
  {
   "cell_type": "code",
   "execution_count": null,
   "id": "9af59d1a",
   "metadata": {},
   "outputs": [],
   "source": []
  },
  {
   "cell_type": "code",
   "execution_count": 29,
   "id": "a073c1c4",
   "metadata": {},
   "outputs": [
    {
     "data": {
      "text/html": [
       "<div>\n",
       "<style scoped>\n",
       "    .dataframe tbody tr th:only-of-type {\n",
       "        vertical-align: middle;\n",
       "    }\n",
       "\n",
       "    .dataframe tbody tr th {\n",
       "        vertical-align: top;\n",
       "    }\n",
       "\n",
       "    .dataframe thead th {\n",
       "        text-align: right;\n",
       "    }\n",
       "</style>\n",
       "<table border=\"1\" class=\"dataframe\">\n",
       "  <thead>\n",
       "    <tr style=\"text-align: right;\">\n",
       "      <th>col_0</th>\n",
       "      <th>0</th>\n",
       "      <th>1</th>\n",
       "    </tr>\n",
       "    <tr>\n",
       "      <th>Loan_Status</th>\n",
       "      <th></th>\n",
       "      <th></th>\n",
       "    </tr>\n",
       "  </thead>\n",
       "  <tbody>\n",
       "    <tr>\n",
       "      <th>0</th>\n",
       "      <td>29</td>\n",
       "      <td>29</td>\n",
       "    </tr>\n",
       "    <tr>\n",
       "      <th>1</th>\n",
       "      <td>9</td>\n",
       "      <td>130</td>\n",
       "    </tr>\n",
       "  </tbody>\n",
       "</table>\n",
       "</div>"
      ],
      "text/plain": [
       "col_0         0    1\n",
       "Loan_Status         \n",
       "0            29   29\n",
       "1             9  130"
      ]
     },
     "execution_count": 29,
     "metadata": {},
     "output_type": "execute_result"
    }
   ],
   "source": [
    "pd.crosstab(test_cr_y , pred)  # another way to see confussion matrix"
   ]
  },
  {
   "cell_type": "code",
   "execution_count": 30,
   "id": "f07a12c1",
   "metadata": {},
   "outputs": [],
   "source": [
    "from sklearn.metrics import confusion_matrix # using sklearn"
   ]
  },
  {
   "cell_type": "code",
   "execution_count": 31,
   "id": "97951f9e",
   "metadata": {},
   "outputs": [
    {
     "data": {
      "text/plain": [
       "array([[ 29,  29],\n",
       "       [  9, 130]], dtype=int64)"
      ]
     },
     "execution_count": 31,
     "metadata": {},
     "output_type": "execute_result"
    }
   ],
   "source": [
    "tab_cr = confusion_matrix(test_cr_y , pred)\n",
    "tab_cr # from top it is predicted"
   ]
  },
  {
   "cell_type": "code",
   "execution_count": 32,
   "id": "6c6b35e9",
   "metadata": {},
   "outputs": [
    {
     "data": {
      "text/plain": [
       "array([[ 29,   9],\n",
       "       [ 29, 130]], dtype=int64)"
      ]
     },
     "execution_count": 32,
     "metadata": {},
     "output_type": "execute_result"
    }
   ],
   "source": [
    "tab_cr = confusion_matrix( pred , test_cr_y )\n",
    "tab_cr # predicted from left to right"
   ]
  },
  {
   "cell_type": "code",
   "execution_count": 33,
   "id": "87c54386",
   "metadata": {},
   "outputs": [
    {
     "data": {
      "text/plain": [
       "0.7969543147208121"
      ]
     },
     "execution_count": 33,
     "metadata": {},
     "output_type": "execute_result"
    }
   ],
   "source": [
    "( 34 + 123 ) / ( 34 + 25 + 15 + 123  ) # 1st method to solve the accuracy"
   ]
  },
  {
   "cell_type": "code",
   "execution_count": 34,
   "id": "d532e039",
   "metadata": {},
   "outputs": [
    {
     "data": {
      "text/plain": [
       "159"
      ]
     },
     "execution_count": 34,
     "metadata": {},
     "output_type": "execute_result"
    }
   ],
   "source": [
    "tab_cr.diagonal().sum()"
   ]
  },
  {
   "cell_type": "code",
   "execution_count": 35,
   "id": "e024e772",
   "metadata": {},
   "outputs": [
    {
     "data": {
      "text/plain": [
       "197"
      ]
     },
     "execution_count": 35,
     "metadata": {},
     "output_type": "execute_result"
    }
   ],
   "source": [
    "tab_cr.sum()"
   ]
  },
  {
   "cell_type": "code",
   "execution_count": 36,
   "id": "d88d108d",
   "metadata": {},
   "outputs": [
    {
     "data": {
      "text/plain": [
       "0.8071065989847716"
      ]
     },
     "execution_count": 36,
     "metadata": {},
     "output_type": "execute_result"
    }
   ],
   "source": [
    "tab_cr.diagonal().sum() / tab_cr.sum() # 2nd method to foidn the accuracy"
   ]
  },
  {
   "cell_type": "code",
   "execution_count": 37,
   "id": "01c1250e",
   "metadata": {},
   "outputs": [
    {
     "data": {
      "text/plain": [
       "80.71065989847716"
      ]
     },
     "execution_count": 37,
     "metadata": {},
     "output_type": "execute_result"
    }
   ],
   "source": [
    "tab_cr.diagonal().sum() * 100 / tab_cr.sum() # to find in the percentage"
   ]
  },
  {
   "cell_type": "code",
   "execution_count": 38,
   "id": "32fd221a",
   "metadata": {},
   "outputs": [],
   "source": [
    "from sklearn.metrics import accuracy_score"
   ]
  },
  {
   "cell_type": "code",
   "execution_count": 39,
   "id": "a89ede63",
   "metadata": {},
   "outputs": [
    {
     "data": {
      "text/plain": [
       "80.71065989847716"
      ]
     },
     "execution_count": 39,
     "metadata": {},
     "output_type": "execute_result"
    }
   ],
   "source": [
    "accuracy_score(test_cr_y , pred) * 100 # 3rd method best method"
   ]
  },
  {
   "cell_type": "markdown",
   "id": "a0381591",
   "metadata": {},
   "source": [
    "# precision formula\n",
    "Tp /( Tp + Fp )\n",
    "123 / (123 + 25)\n"
   ]
  },
  {
   "cell_type": "code",
   "execution_count": 40,
   "id": "1d0cdfdb",
   "metadata": {},
   "outputs": [],
   "source": [
    "from sklearn.metrics import precision_score"
   ]
  },
  {
   "cell_type": "code",
   "execution_count": 41,
   "id": "19697fa0",
   "metadata": {},
   "outputs": [
    {
     "data": {
      "text/plain": [
       "0.8176100628930818"
      ]
     },
     "execution_count": 41,
     "metadata": {},
     "output_type": "execute_result"
    }
   ],
   "source": [
    "precision_score(test_cr_y , pred) # to find the precision"
   ]
  },
  {
   "cell_type": "markdown",
   "id": "8a9dee10",
   "metadata": {},
   "source": [
    "# Recall nothing but Tpr\n",
    "Tp / Tp + Fn"
   ]
  },
  {
   "cell_type": "code",
   "execution_count": 42,
   "id": "aee26342",
   "metadata": {},
   "outputs": [
    {
     "data": {
      "text/plain": [
       "0.8913043478260869"
      ]
     },
     "execution_count": 42,
     "metadata": {},
     "output_type": "execute_result"
    }
   ],
   "source": [
    "(123)/(123+15)"
   ]
  },
  {
   "cell_type": "code",
   "execution_count": 43,
   "id": "7796f4de",
   "metadata": {},
   "outputs": [],
   "source": [
    "from sklearn.metrics import recall_score"
   ]
  },
  {
   "cell_type": "code",
   "execution_count": 44,
   "id": "17299b22",
   "metadata": {},
   "outputs": [
    {
     "data": {
      "text/plain": [
       "0.935251798561151"
      ]
     },
     "execution_count": 44,
     "metadata": {},
     "output_type": "execute_result"
    }
   ],
   "source": [
    "recall_score(test_cr_y , pred)"
   ]
  },
  {
   "cell_type": "markdown",
   "id": "77deb2d7",
   "metadata": {},
   "source": [
    "# F1 Score\n",
    "(2 * prec * recall) /(recall+precision)"
   ]
  },
  {
   "cell_type": "code",
   "execution_count": 45,
   "id": "aaeffae3",
   "metadata": {},
   "outputs": [],
   "source": [
    "from sklearn.metrics import f1_score"
   ]
  },
  {
   "cell_type": "code",
   "execution_count": 46,
   "id": "10c4f6dc",
   "metadata": {},
   "outputs": [
    {
     "data": {
      "text/plain": [
       "0.8724832214765101"
      ]
     },
     "execution_count": 46,
     "metadata": {},
     "output_type": "execute_result"
    }
   ],
   "source": [
    "f1_score(test_cr_y, pred)"
   ]
  },
  {
   "cell_type": "markdown",
   "id": "f588f07e",
   "metadata": {},
   "source": [
    "# AUROC and build the plot for auroc"
   ]
  },
  {
   "cell_type": "code",
   "execution_count": 47,
   "id": "71c44bd3",
   "metadata": {},
   "outputs": [],
   "source": [
    "from sklearn.metrics import roc_auc_score\n",
    "from sklearn.metrics import roc_curve"
   ]
  },
  {
   "cell_type": "code",
   "execution_count": 48,
   "id": "31e63b93",
   "metadata": {},
   "outputs": [],
   "source": [
    "pred = log_cr.predict(test_cr_x) #pred"
   ]
  },
  {
   "cell_type": "code",
   "execution_count": 49,
   "id": "1803ee2b",
   "metadata": {},
   "outputs": [],
   "source": [
    "pred_prob = log_cr.predict_proba(test_cr_x) # proba mean to predict probsblity"
   ]
  },
  {
   "cell_type": "code",
   "execution_count": 50,
   "id": "198f19d6",
   "metadata": {},
   "outputs": [
    {
     "data": {
      "text/plain": [
       "array([[0.07286665, 0.92713335],\n",
       "       [0.53057119, 0.46942881],\n",
       "       [0.08219986, 0.91780014],\n",
       "       [0.23766146, 0.76233854],\n",
       "       [0.20013794, 0.79986206],\n",
       "       [0.15405473, 0.84594527],\n",
       "       [0.21307972, 0.78692028],\n",
       "       [0.0798266 , 0.9201734 ],\n",
       "       [0.66201578, 0.33798422],\n",
       "       [0.14805741, 0.85194259],\n",
       "       [0.13216521, 0.86783479],\n",
       "       [0.09469209, 0.90530791],\n",
       "       [0.07170989, 0.92829011],\n",
       "       [0.11865968, 0.88134032],\n",
       "       [0.19697535, 0.80302465],\n",
       "       [0.29108657, 0.70891343],\n",
       "       [0.22139708, 0.77860292],\n",
       "       [0.14210121, 0.85789879],\n",
       "       [0.08784129, 0.91215871],\n",
       "       [0.08924119, 0.91075881],\n",
       "       [0.09677751, 0.90322249],\n",
       "       [0.11287961, 0.88712039],\n",
       "       [0.25376263, 0.74623737],\n",
       "       [0.18452194, 0.81547806],\n",
       "       [0.16525099, 0.83474901],\n",
       "       [0.20850594, 0.79149406],\n",
       "       [0.20278463, 0.79721537],\n",
       "       [0.61495714, 0.38504286],\n",
       "       [0.15416856, 0.84583144],\n",
       "       [0.13151391, 0.86848609],\n",
       "       [0.5092144 , 0.4907856 ],\n",
       "       [0.62453772, 0.37546228],\n",
       "       [0.20998546, 0.79001454],\n",
       "       [0.13613587, 0.86386413],\n",
       "       [0.08160816, 0.91839184],\n",
       "       [0.16948706, 0.83051294],\n",
       "       [0.78104122, 0.21895878],\n",
       "       [0.75806695, 0.24193305],\n",
       "       [0.12801846, 0.87198154],\n",
       "       [0.13119458, 0.86880542],\n",
       "       [0.0423307 , 0.9576693 ],\n",
       "       [0.27512776, 0.72487224],\n",
       "       [0.09771825, 0.90228175],\n",
       "       [0.12441868, 0.87558132],\n",
       "       [0.03409866, 0.96590134],\n",
       "       [0.08642344, 0.91357656],\n",
       "       [0.1398429 , 0.8601571 ],\n",
       "       [0.77212055, 0.22787945],\n",
       "       [0.22927432, 0.77072568],\n",
       "       [0.68283849, 0.31716151],\n",
       "       [0.02391697, 0.97608303],\n",
       "       [0.42576484, 0.57423516],\n",
       "       [0.69446685, 0.30553315],\n",
       "       [0.16453259, 0.83546741],\n",
       "       [0.14388704, 0.85611296],\n",
       "       [0.25695178, 0.74304822],\n",
       "       [0.3051229 , 0.6948771 ],\n",
       "       [0.61807061, 0.38192939],\n",
       "       [0.25023688, 0.74976312],\n",
       "       [0.67907892, 0.32092108],\n",
       "       [0.31408923, 0.68591077],\n",
       "       [0.09997431, 0.90002569],\n",
       "       [0.14929233, 0.85070767],\n",
       "       [0.31542323, 0.68457677],\n",
       "       [0.11268857, 0.88731143],\n",
       "       [0.08128235, 0.91871765],\n",
       "       [0.19312154, 0.80687846],\n",
       "       [0.1562285 , 0.8437715 ],\n",
       "       [0.55141461, 0.44858539],\n",
       "       [0.24200487, 0.75799513],\n",
       "       [0.06376681, 0.93623319],\n",
       "       [0.07380576, 0.92619424],\n",
       "       [0.67677699, 0.32322301],\n",
       "       [0.21852423, 0.78147577],\n",
       "       [0.11450784, 0.88549216],\n",
       "       [0.08017231, 0.91982769],\n",
       "       [0.28387479, 0.71612521],\n",
       "       [0.1847854 , 0.8152146 ],\n",
       "       [0.11585595, 0.88414405],\n",
       "       [0.05432302, 0.94567698],\n",
       "       [0.39309785, 0.60690215],\n",
       "       [0.09270961, 0.90729039],\n",
       "       [0.51552651, 0.48447349],\n",
       "       [0.09491038, 0.90508962],\n",
       "       [0.0734478 , 0.9265522 ],\n",
       "       [0.08526011, 0.91473989],\n",
       "       [0.0672327 , 0.9327673 ],\n",
       "       [0.08964492, 0.91035508],\n",
       "       [0.50222294, 0.49777706],\n",
       "       [0.10681935, 0.89318065],\n",
       "       [0.21023645, 0.78976355],\n",
       "       [0.10071117, 0.89928883],\n",
       "       [0.26565765, 0.73434235],\n",
       "       [0.07064319, 0.92935681],\n",
       "       [0.5272857 , 0.4727143 ],\n",
       "       [0.16624665, 0.83375335],\n",
       "       [0.16863835, 0.83136165],\n",
       "       [0.29381355, 0.70618645],\n",
       "       [0.24871872, 0.75128128],\n",
       "       [0.50925622, 0.49074378],\n",
       "       [0.59311761, 0.40688239],\n",
       "       [0.10804439, 0.89195561],\n",
       "       [0.08177841, 0.91822159],\n",
       "       [0.13447651, 0.86552349],\n",
       "       [0.11624036, 0.88375964],\n",
       "       [0.03638919, 0.96361081],\n",
       "       [0.06381559, 0.93618441],\n",
       "       [0.26512639, 0.73487361],\n",
       "       [0.82008454, 0.17991546],\n",
       "       [0.12062251, 0.87937749],\n",
       "       [0.43969546, 0.56030454],\n",
       "       [0.41115263, 0.58884737],\n",
       "       [0.60402013, 0.39597987],\n",
       "       [0.60850436, 0.39149564],\n",
       "       [0.10461634, 0.89538366],\n",
       "       [0.7569933 , 0.2430067 ],\n",
       "       [0.14706572, 0.85293428],\n",
       "       [0.15454767, 0.84545233],\n",
       "       [0.49953624, 0.50046376],\n",
       "       [0.10242302, 0.89757698],\n",
       "       [0.1960084 , 0.8039916 ],\n",
       "       [0.0916479 , 0.9083521 ],\n",
       "       [0.20725121, 0.79274879],\n",
       "       [0.23269071, 0.76730929],\n",
       "       [0.28099888, 0.71900112],\n",
       "       [0.43968188, 0.56031812],\n",
       "       [0.61323039, 0.38676961],\n",
       "       [0.44342196, 0.55657804],\n",
       "       [0.12286138, 0.87713862],\n",
       "       [0.12001326, 0.87998674],\n",
       "       [0.28979975, 0.71020025],\n",
       "       [0.18605094, 0.81394906],\n",
       "       [0.20755465, 0.79244535],\n",
       "       [0.27967019, 0.72032981],\n",
       "       [0.13871704, 0.86128296],\n",
       "       [0.08472579, 0.91527421],\n",
       "       [0.4927699 , 0.5072301 ],\n",
       "       [0.15750283, 0.84249717],\n",
       "       [0.12304435, 0.87695565],\n",
       "       [0.77880151, 0.22119849],\n",
       "       [0.52909047, 0.47090953],\n",
       "       [0.09562437, 0.90437563],\n",
       "       [0.17922383, 0.82077617],\n",
       "       [0.13460237, 0.86539763],\n",
       "       [0.22571425, 0.77428575],\n",
       "       [0.1300006 , 0.8699994 ],\n",
       "       [0.16993605, 0.83006395],\n",
       "       [0.11468561, 0.88531439],\n",
       "       [0.13109116, 0.86890884],\n",
       "       [0.32117561, 0.67882439],\n",
       "       [0.09517705, 0.90482295],\n",
       "       [0.5479713 , 0.4520287 ],\n",
       "       [0.66376485, 0.33623515],\n",
       "       [0.04916227, 0.95083773],\n",
       "       [0.30687162, 0.69312838],\n",
       "       [0.08787997, 0.91212003],\n",
       "       [0.73748081, 0.26251919],\n",
       "       [0.2080338 , 0.7919662 ],\n",
       "       [0.68633421, 0.31366579],\n",
       "       [0.23961593, 0.76038407],\n",
       "       [0.29589168, 0.70410832],\n",
       "       [0.24691471, 0.75308529],\n",
       "       [0.2154478 , 0.7845522 ],\n",
       "       [0.08504306, 0.91495694],\n",
       "       [0.29002863, 0.70997137],\n",
       "       [0.07682074, 0.92317926],\n",
       "       [0.18913878, 0.81086122],\n",
       "       [0.17319078, 0.82680922],\n",
       "       [0.40288089, 0.59711911],\n",
       "       [0.1507424 , 0.8492576 ],\n",
       "       [0.11981704, 0.88018296],\n",
       "       [0.29147022, 0.70852978],\n",
       "       [0.4293336 , 0.5706664 ],\n",
       "       [0.68250275, 0.31749725],\n",
       "       [0.81601296, 0.18398704],\n",
       "       [0.12109056, 0.87890944],\n",
       "       [0.2656153 , 0.7343847 ],\n",
       "       [0.18289708, 0.81710292],\n",
       "       [0.66356836, 0.33643164],\n",
       "       [0.60014341, 0.39985659],\n",
       "       [0.1248966 , 0.8751034 ],\n",
       "       [0.07548953, 0.92451047],\n",
       "       [0.67149316, 0.32850684],\n",
       "       [0.46884682, 0.53115318],\n",
       "       [0.78189335, 0.21810665],\n",
       "       [0.65386224, 0.34613776],\n",
       "       [0.21062092, 0.78937908],\n",
       "       [0.38684917, 0.61315083],\n",
       "       [0.18475347, 0.81524653],\n",
       "       [0.70547774, 0.29452226],\n",
       "       [0.11528959, 0.88471041],\n",
       "       [0.15333145, 0.84666855],\n",
       "       [0.3911771 , 0.6088229 ],\n",
       "       [0.0977504 , 0.9022496 ],\n",
       "       [0.19108371, 0.80891629],\n",
       "       [0.16304118, 0.83695882],\n",
       "       [0.23126423, 0.76873577]])"
      ]
     },
     "execution_count": 50,
     "metadata": {},
     "output_type": "execute_result"
    }
   ],
   "source": [
    "pred_prob"
   ]
  },
  {
   "cell_type": "code",
   "execution_count": 51,
   "id": "b381b8c4",
   "metadata": {},
   "outputs": [
    {
     "data": {
      "text/plain": [
       "(197, 2)"
      ]
     },
     "execution_count": 51,
     "metadata": {},
     "output_type": "execute_result"
    }
   ],
   "source": [
    "pred_prob.shape # it means this is giviing the probablity in class 0 and 1 for each record\n",
    " # based on probablity the classes where decided"
   ]
  },
  {
   "cell_type": "code",
   "execution_count": 52,
   "id": "5b5a2e9f",
   "metadata": {},
   "outputs": [
    {
     "data": {
      "text/plain": [
       "0.7176258992805755"
      ]
     },
     "execution_count": 52,
     "metadata": {},
     "output_type": "execute_result"
    }
   ],
   "source": [
    "roc_auc_score(test_cr_y , pred) # this is the area under the curve"
   ]
  },
  {
   "cell_type": "code",
   "execution_count": 53,
   "id": "295f05a9",
   "metadata": {},
   "outputs": [],
   "source": [
    "# many time here job is done but somtime you need to write some more line that is to plot the graph area under the curve "
   ]
  },
  {
   "cell_type": "code",
   "execution_count": 54,
   "id": "61a84510",
   "metadata": {},
   "outputs": [
    {
     "data": {
      "text/plain": [
       "array([[0.07286665, 0.92713335],\n",
       "       [0.53057119, 0.46942881],\n",
       "       [0.08219986, 0.91780014],\n",
       "       [0.23766146, 0.76233854],\n",
       "       [0.20013794, 0.79986206],\n",
       "       [0.15405473, 0.84594527],\n",
       "       [0.21307972, 0.78692028],\n",
       "       [0.0798266 , 0.9201734 ],\n",
       "       [0.66201578, 0.33798422],\n",
       "       [0.14805741, 0.85194259],\n",
       "       [0.13216521, 0.86783479],\n",
       "       [0.09469209, 0.90530791],\n",
       "       [0.07170989, 0.92829011],\n",
       "       [0.11865968, 0.88134032],\n",
       "       [0.19697535, 0.80302465],\n",
       "       [0.29108657, 0.70891343],\n",
       "       [0.22139708, 0.77860292],\n",
       "       [0.14210121, 0.85789879],\n",
       "       [0.08784129, 0.91215871],\n",
       "       [0.08924119, 0.91075881],\n",
       "       [0.09677751, 0.90322249],\n",
       "       [0.11287961, 0.88712039],\n",
       "       [0.25376263, 0.74623737],\n",
       "       [0.18452194, 0.81547806],\n",
       "       [0.16525099, 0.83474901],\n",
       "       [0.20850594, 0.79149406],\n",
       "       [0.20278463, 0.79721537],\n",
       "       [0.61495714, 0.38504286],\n",
       "       [0.15416856, 0.84583144],\n",
       "       [0.13151391, 0.86848609],\n",
       "       [0.5092144 , 0.4907856 ],\n",
       "       [0.62453772, 0.37546228],\n",
       "       [0.20998546, 0.79001454],\n",
       "       [0.13613587, 0.86386413],\n",
       "       [0.08160816, 0.91839184],\n",
       "       [0.16948706, 0.83051294],\n",
       "       [0.78104122, 0.21895878],\n",
       "       [0.75806695, 0.24193305],\n",
       "       [0.12801846, 0.87198154],\n",
       "       [0.13119458, 0.86880542],\n",
       "       [0.0423307 , 0.9576693 ],\n",
       "       [0.27512776, 0.72487224],\n",
       "       [0.09771825, 0.90228175],\n",
       "       [0.12441868, 0.87558132],\n",
       "       [0.03409866, 0.96590134],\n",
       "       [0.08642344, 0.91357656],\n",
       "       [0.1398429 , 0.8601571 ],\n",
       "       [0.77212055, 0.22787945],\n",
       "       [0.22927432, 0.77072568],\n",
       "       [0.68283849, 0.31716151],\n",
       "       [0.02391697, 0.97608303],\n",
       "       [0.42576484, 0.57423516],\n",
       "       [0.69446685, 0.30553315],\n",
       "       [0.16453259, 0.83546741],\n",
       "       [0.14388704, 0.85611296],\n",
       "       [0.25695178, 0.74304822],\n",
       "       [0.3051229 , 0.6948771 ],\n",
       "       [0.61807061, 0.38192939],\n",
       "       [0.25023688, 0.74976312],\n",
       "       [0.67907892, 0.32092108],\n",
       "       [0.31408923, 0.68591077],\n",
       "       [0.09997431, 0.90002569],\n",
       "       [0.14929233, 0.85070767],\n",
       "       [0.31542323, 0.68457677],\n",
       "       [0.11268857, 0.88731143],\n",
       "       [0.08128235, 0.91871765],\n",
       "       [0.19312154, 0.80687846],\n",
       "       [0.1562285 , 0.8437715 ],\n",
       "       [0.55141461, 0.44858539],\n",
       "       [0.24200487, 0.75799513],\n",
       "       [0.06376681, 0.93623319],\n",
       "       [0.07380576, 0.92619424],\n",
       "       [0.67677699, 0.32322301],\n",
       "       [0.21852423, 0.78147577],\n",
       "       [0.11450784, 0.88549216],\n",
       "       [0.08017231, 0.91982769],\n",
       "       [0.28387479, 0.71612521],\n",
       "       [0.1847854 , 0.8152146 ],\n",
       "       [0.11585595, 0.88414405],\n",
       "       [0.05432302, 0.94567698],\n",
       "       [0.39309785, 0.60690215],\n",
       "       [0.09270961, 0.90729039],\n",
       "       [0.51552651, 0.48447349],\n",
       "       [0.09491038, 0.90508962],\n",
       "       [0.0734478 , 0.9265522 ],\n",
       "       [0.08526011, 0.91473989],\n",
       "       [0.0672327 , 0.9327673 ],\n",
       "       [0.08964492, 0.91035508],\n",
       "       [0.50222294, 0.49777706],\n",
       "       [0.10681935, 0.89318065],\n",
       "       [0.21023645, 0.78976355],\n",
       "       [0.10071117, 0.89928883],\n",
       "       [0.26565765, 0.73434235],\n",
       "       [0.07064319, 0.92935681],\n",
       "       [0.5272857 , 0.4727143 ],\n",
       "       [0.16624665, 0.83375335],\n",
       "       [0.16863835, 0.83136165],\n",
       "       [0.29381355, 0.70618645],\n",
       "       [0.24871872, 0.75128128],\n",
       "       [0.50925622, 0.49074378],\n",
       "       [0.59311761, 0.40688239],\n",
       "       [0.10804439, 0.89195561],\n",
       "       [0.08177841, 0.91822159],\n",
       "       [0.13447651, 0.86552349],\n",
       "       [0.11624036, 0.88375964],\n",
       "       [0.03638919, 0.96361081],\n",
       "       [0.06381559, 0.93618441],\n",
       "       [0.26512639, 0.73487361],\n",
       "       [0.82008454, 0.17991546],\n",
       "       [0.12062251, 0.87937749],\n",
       "       [0.43969546, 0.56030454],\n",
       "       [0.41115263, 0.58884737],\n",
       "       [0.60402013, 0.39597987],\n",
       "       [0.60850436, 0.39149564],\n",
       "       [0.10461634, 0.89538366],\n",
       "       [0.7569933 , 0.2430067 ],\n",
       "       [0.14706572, 0.85293428],\n",
       "       [0.15454767, 0.84545233],\n",
       "       [0.49953624, 0.50046376],\n",
       "       [0.10242302, 0.89757698],\n",
       "       [0.1960084 , 0.8039916 ],\n",
       "       [0.0916479 , 0.9083521 ],\n",
       "       [0.20725121, 0.79274879],\n",
       "       [0.23269071, 0.76730929],\n",
       "       [0.28099888, 0.71900112],\n",
       "       [0.43968188, 0.56031812],\n",
       "       [0.61323039, 0.38676961],\n",
       "       [0.44342196, 0.55657804],\n",
       "       [0.12286138, 0.87713862],\n",
       "       [0.12001326, 0.87998674],\n",
       "       [0.28979975, 0.71020025],\n",
       "       [0.18605094, 0.81394906],\n",
       "       [0.20755465, 0.79244535],\n",
       "       [0.27967019, 0.72032981],\n",
       "       [0.13871704, 0.86128296],\n",
       "       [0.08472579, 0.91527421],\n",
       "       [0.4927699 , 0.5072301 ],\n",
       "       [0.15750283, 0.84249717],\n",
       "       [0.12304435, 0.87695565],\n",
       "       [0.77880151, 0.22119849],\n",
       "       [0.52909047, 0.47090953],\n",
       "       [0.09562437, 0.90437563],\n",
       "       [0.17922383, 0.82077617],\n",
       "       [0.13460237, 0.86539763],\n",
       "       [0.22571425, 0.77428575],\n",
       "       [0.1300006 , 0.8699994 ],\n",
       "       [0.16993605, 0.83006395],\n",
       "       [0.11468561, 0.88531439],\n",
       "       [0.13109116, 0.86890884],\n",
       "       [0.32117561, 0.67882439],\n",
       "       [0.09517705, 0.90482295],\n",
       "       [0.5479713 , 0.4520287 ],\n",
       "       [0.66376485, 0.33623515],\n",
       "       [0.04916227, 0.95083773],\n",
       "       [0.30687162, 0.69312838],\n",
       "       [0.08787997, 0.91212003],\n",
       "       [0.73748081, 0.26251919],\n",
       "       [0.2080338 , 0.7919662 ],\n",
       "       [0.68633421, 0.31366579],\n",
       "       [0.23961593, 0.76038407],\n",
       "       [0.29589168, 0.70410832],\n",
       "       [0.24691471, 0.75308529],\n",
       "       [0.2154478 , 0.7845522 ],\n",
       "       [0.08504306, 0.91495694],\n",
       "       [0.29002863, 0.70997137],\n",
       "       [0.07682074, 0.92317926],\n",
       "       [0.18913878, 0.81086122],\n",
       "       [0.17319078, 0.82680922],\n",
       "       [0.40288089, 0.59711911],\n",
       "       [0.1507424 , 0.8492576 ],\n",
       "       [0.11981704, 0.88018296],\n",
       "       [0.29147022, 0.70852978],\n",
       "       [0.4293336 , 0.5706664 ],\n",
       "       [0.68250275, 0.31749725],\n",
       "       [0.81601296, 0.18398704],\n",
       "       [0.12109056, 0.87890944],\n",
       "       [0.2656153 , 0.7343847 ],\n",
       "       [0.18289708, 0.81710292],\n",
       "       [0.66356836, 0.33643164],\n",
       "       [0.60014341, 0.39985659],\n",
       "       [0.1248966 , 0.8751034 ],\n",
       "       [0.07548953, 0.92451047],\n",
       "       [0.67149316, 0.32850684],\n",
       "       [0.46884682, 0.53115318],\n",
       "       [0.78189335, 0.21810665],\n",
       "       [0.65386224, 0.34613776],\n",
       "       [0.21062092, 0.78937908],\n",
       "       [0.38684917, 0.61315083],\n",
       "       [0.18475347, 0.81524653],\n",
       "       [0.70547774, 0.29452226],\n",
       "       [0.11528959, 0.88471041],\n",
       "       [0.15333145, 0.84666855],\n",
       "       [0.3911771 , 0.6088229 ],\n",
       "       [0.0977504 , 0.9022496 ],\n",
       "       [0.19108371, 0.80891629],\n",
       "       [0.16304118, 0.83695882],\n",
       "       [0.23126423, 0.76873577]])"
      ]
     },
     "execution_count": 54,
     "metadata": {},
     "output_type": "execute_result"
    }
   ],
   "source": [
    "pred_prob = log_cr.predict_proba(test_cr_x)\n",
    "pred_prob"
   ]
  },
  {
   "cell_type": "code",
   "execution_count": 55,
   "id": "ea343943",
   "metadata": {},
   "outputs": [],
   "source": [
    "# here convention as standard is that right column indicate 'p' and left comlumn indicate 'q'"
   ]
  },
  {
   "cell_type": "markdown",
   "id": "e8915ebf",
   "metadata": {},
   "source": [
    "# select only second columns"
   ]
  },
  {
   "cell_type": "code",
   "execution_count": 56,
   "id": "188a307a",
   "metadata": {},
   "outputs": [
    {
     "data": {
      "text/plain": [
       "array([0.92713335, 0.46942881, 0.91780014, 0.76233854, 0.79986206,\n",
       "       0.84594527, 0.78692028, 0.9201734 , 0.33798422, 0.85194259,\n",
       "       0.86783479, 0.90530791, 0.92829011, 0.88134032, 0.80302465,\n",
       "       0.70891343, 0.77860292, 0.85789879, 0.91215871, 0.91075881,\n",
       "       0.90322249, 0.88712039, 0.74623737, 0.81547806, 0.83474901,\n",
       "       0.79149406, 0.79721537, 0.38504286, 0.84583144, 0.86848609,\n",
       "       0.4907856 , 0.37546228, 0.79001454, 0.86386413, 0.91839184,\n",
       "       0.83051294, 0.21895878, 0.24193305, 0.87198154, 0.86880542,\n",
       "       0.9576693 , 0.72487224, 0.90228175, 0.87558132, 0.96590134,\n",
       "       0.91357656, 0.8601571 , 0.22787945, 0.77072568, 0.31716151,\n",
       "       0.97608303, 0.57423516, 0.30553315, 0.83546741, 0.85611296,\n",
       "       0.74304822, 0.6948771 , 0.38192939, 0.74976312, 0.32092108,\n",
       "       0.68591077, 0.90002569, 0.85070767, 0.68457677, 0.88731143,\n",
       "       0.91871765, 0.80687846, 0.8437715 , 0.44858539, 0.75799513,\n",
       "       0.93623319, 0.92619424, 0.32322301, 0.78147577, 0.88549216,\n",
       "       0.91982769, 0.71612521, 0.8152146 , 0.88414405, 0.94567698,\n",
       "       0.60690215, 0.90729039, 0.48447349, 0.90508962, 0.9265522 ,\n",
       "       0.91473989, 0.9327673 , 0.91035508, 0.49777706, 0.89318065,\n",
       "       0.78976355, 0.89928883, 0.73434235, 0.92935681, 0.4727143 ,\n",
       "       0.83375335, 0.83136165, 0.70618645, 0.75128128, 0.49074378,\n",
       "       0.40688239, 0.89195561, 0.91822159, 0.86552349, 0.88375964,\n",
       "       0.96361081, 0.93618441, 0.73487361, 0.17991546, 0.87937749,\n",
       "       0.56030454, 0.58884737, 0.39597987, 0.39149564, 0.89538366,\n",
       "       0.2430067 , 0.85293428, 0.84545233, 0.50046376, 0.89757698,\n",
       "       0.8039916 , 0.9083521 , 0.79274879, 0.76730929, 0.71900112,\n",
       "       0.56031812, 0.38676961, 0.55657804, 0.87713862, 0.87998674,\n",
       "       0.71020025, 0.81394906, 0.79244535, 0.72032981, 0.86128296,\n",
       "       0.91527421, 0.5072301 , 0.84249717, 0.87695565, 0.22119849,\n",
       "       0.47090953, 0.90437563, 0.82077617, 0.86539763, 0.77428575,\n",
       "       0.8699994 , 0.83006395, 0.88531439, 0.86890884, 0.67882439,\n",
       "       0.90482295, 0.4520287 , 0.33623515, 0.95083773, 0.69312838,\n",
       "       0.91212003, 0.26251919, 0.7919662 , 0.31366579, 0.76038407,\n",
       "       0.70410832, 0.75308529, 0.7845522 , 0.91495694, 0.70997137,\n",
       "       0.92317926, 0.81086122, 0.82680922, 0.59711911, 0.8492576 ,\n",
       "       0.88018296, 0.70852978, 0.5706664 , 0.31749725, 0.18398704,\n",
       "       0.87890944, 0.7343847 , 0.81710292, 0.33643164, 0.39985659,\n",
       "       0.8751034 , 0.92451047, 0.32850684, 0.53115318, 0.21810665,\n",
       "       0.34613776, 0.78937908, 0.61315083, 0.81524653, 0.29452226,\n",
       "       0.88471041, 0.84666855, 0.6088229 , 0.9022496 , 0.80891629,\n",
       "       0.83695882, 0.76873577])"
      ]
     },
     "execution_count": 56,
     "metadata": {},
     "output_type": "execute_result"
    }
   ],
   "source": [
    "pred_prob[: , 1] # this selects your probablity for class 1\n",
    "                # basically selecting the second columns\n",
    "    # just for knowledgee purpose"
   ]
  },
  {
   "cell_type": "markdown",
   "id": "7074c672",
   "metadata": {},
   "source": [
    "# Plotting ROC Curve"
   ]
  },
  {
   "cell_type": "code",
   "execution_count": 57,
   "id": "5ed4be98",
   "metadata": {},
   "outputs": [],
   "source": [
    "fpr , tpr , thres = roc_curve(test_cr_y , pred_prob[: , 1])  # this will return 3 things fpr tpr thres"
   ]
  },
  {
   "cell_type": "code",
   "execution_count": 58,
   "id": "34270ac4",
   "metadata": {},
   "outputs": [],
   "source": [
    "# for Visualizing the ROC\n",
    "\n",
    "import matplotlib.pyplot as plt"
   ]
  },
  {
   "cell_type": "code",
   "execution_count": 59,
   "id": "c16b4a7c",
   "metadata": {},
   "outputs": [
    {
     "data": {
      "text/plain": [
       "[<matplotlib.lines.Line2D at 0x12ac0d11e70>]"
      ]
     },
     "execution_count": 59,
     "metadata": {},
     "output_type": "execute_result"
    },
    {
     "data": {
      "image/png": "[encoded data removed]",
      "text/plain": [
       "<Figure size 640x480 with 1 Axes>"
      ]
     },
     "metadata": {},
     "output_type": "display_data"
    }
   ],
   "source": [
    "plt.plot(fpr , tpr) # graph of curve"
   ]
  },
  {
   "cell_type": "code",
   "execution_count": 60,
   "id": "625052c2",
   "metadata": {
    "scrolled": true
   },
   "outputs": [
    {
     "data": {
      "text/plain": [
       "Text(0.5, 0.5, 'Auroc is 0.7337877671333825 ')"
      ]
     },
     "execution_count": 60,
     "metadata": {},
     "output_type": "execute_result"
    },
    {
     "data": {
      "image/png": "[encoded data removed]",
      "text/plain": [
       "<Figure size 640x480 with 1 Axes>"
      ]
     },
     "metadata": {},
     "output_type": "display_data"
    }
   ],
   "source": [
    "# making the Plot bit attrative for analyzing purpose\n",
    "\n",
    "plt.plot(fpr , tpr , color = 'r')\n",
    "plt.xlabel(\"Fpr\") # show on x axis\n",
    "plt.ylabel(\"TPr\") # show on y axis\n",
    "plt.title(\"Auroc on Credit Risk Data\") # to add title\n",
    "plt.grid() # to show grid\n",
    "plt.text(x = .5 , y = .5 , s=\"Auroc is 0.7337877671333825 \") # to plot text"
   ]
  },
  {
   "cell_type": "markdown",
   "id": "cb1b22a2",
   "metadata": {},
   "source": [
    "# Conclusion"
   ]
  },
  {
   "cell_type": "code",
   "execution_count": null,
   "id": "513ce506",
   "metadata": {},
   "outputs": [],
   "source": [
    "# Here we have analyzed the data and pre-processed the data, Trained and build the model using the Logistic regression\n",
    "# to know loan default and their proality we used Logistic regression\n",
    "# we used precision, Recall, F1, and AUROC to evalvate the performance of the models at predicting class labels.\n",
    "# we can round up our demo of how ML can be applied to the world in credit risk management."
   ]
  }
 ],
 "metadata": {
  "kernelspec": {
   "display_name": "Python 3 (ipykernel)",
   "language": "python",
   "name": "python3"
  },
  "language_info": {
   "codemirror_mode": {
    "name": "ipython",
    "version": 3
   },
   "file_extension": ".py",
   "mimetype": "text/x-python",
   "name": "python",
   "nbconvert_exporter": "python",
   "pygments_lexer": "ipython3",
   "version": "3.10.5"
  }
 },
 "nbformat": 4,
 "nbformat_minor": 5
}
