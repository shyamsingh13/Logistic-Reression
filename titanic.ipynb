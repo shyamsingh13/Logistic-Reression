{
 "cells": [
  {
   "cell_type": "markdown",
   "id": "943da9c6",
   "metadata": {},
   "source": [
    "# Titanic Data"
   ]
  },
  {
   "cell_type": "code",
   "execution_count": 1,
   "id": "a5532da9",
   "metadata": {},
   "outputs": [],
   "source": [
    "import pandas as pd"
   ]
  },
  {
   "cell_type": "code",
   "execution_count": 2,
   "id": "7a507b83",
   "metadata": {},
   "outputs": [],
   "source": [
    "tn =pd.read_excel(r\"F:\\carreer\\titanic3.xls\")"
   ]
  },
  {
   "cell_type": "code",
   "execution_count": 3,
   "id": "073e15b6",
   "metadata": {},
   "outputs": [
    {
     "data": {
      "text/plain": [
       "(1309, 14)"
      ]
     },
     "execution_count": 3,
     "metadata": {},
     "output_type": "execute_result"
    }
   ],
   "source": [
    "tn.shape"
   ]
  },
  {
   "cell_type": "code",
   "execution_count": 4,
   "id": "7a47f925",
   "metadata": {},
   "outputs": [
    {
     "data": {
      "text/plain": [
       "pclass          0\n",
       "survived        0\n",
       "name            0\n",
       "sex             0\n",
       "age           263\n",
       "sibsp           0\n",
       "parch           0\n",
       "ticket          0\n",
       "fare            1\n",
       "cabin        1014\n",
       "embarked        2\n",
       "boat          823\n",
       "body         1188\n",
       "home.dest     564\n",
       "dtype: int64"
      ]
     },
     "execution_count": 4,
     "metadata": {},
     "output_type": "execute_result"
    }
   ],
   "source": [
    "tn.isnull().sum() # checking the null"
   ]
  },
  {
   "cell_type": "code",
   "execution_count": 5,
   "id": "994d2d26",
   "metadata": {},
   "outputs": [],
   "source": [
    "tn.age = tn.age.fillna(tn.age.mean())\n",
    "tn.fare = tn.fare.fillna(tn.fare.mean())\n",
    "tn.embarked = tn.embarked.fillna(\"S\")\n",
    "tn.boat = tn.boat.fillna(13)\n",
    "tn.body = tn.body.fillna(tn.body.mean())"
   ]
  },
  {
   "cell_type": "code",
   "execution_count": 6,
   "id": "3d85eb92",
   "metadata": {},
   "outputs": [],
   "source": [
    "tn.drop(['cabin','home.dest','name','ticket','fare'], axis=1,inplace=True) # dropping the unnecessary x factors"
   ]
  },
  {
   "cell_type": "code",
   "execution_count": 7,
   "id": "833be5f8",
   "metadata": {},
   "outputs": [
    {
     "data": {
      "text/html": [
       "<div>\n",
       "<style scoped>\n",
       "    .dataframe tbody tr th:only-of-type {\n",
       "        vertical-align: middle;\n",
       "    }\n",
       "\n",
       "    .dataframe tbody tr th {\n",
       "        vertical-align: top;\n",
       "    }\n",
       "\n",
       "    .dataframe thead th {\n",
       "        text-align: right;\n",
       "    }\n",
       "</style>\n",
       "<table border=\"1\" class=\"dataframe\">\n",
       "  <thead>\n",
       "    <tr style=\"text-align: right;\">\n",
       "      <th></th>\n",
       "      <th>pclass</th>\n",
       "      <th>survived</th>\n",
       "      <th>sex</th>\n",
       "      <th>age</th>\n",
       "      <th>sibsp</th>\n",
       "      <th>parch</th>\n",
       "      <th>embarked</th>\n",
       "      <th>boat</th>\n",
       "      <th>body</th>\n",
       "    </tr>\n",
       "  </thead>\n",
       "  <tbody>\n",
       "    <tr>\n",
       "      <th>0</th>\n",
       "      <td>1</td>\n",
       "      <td>1</td>\n",
       "      <td>female</td>\n",
       "      <td>29.0000</td>\n",
       "      <td>0</td>\n",
       "      <td>0</td>\n",
       "      <td>S</td>\n",
       "      <td>2</td>\n",
       "      <td>160.809917</td>\n",
       "    </tr>\n",
       "    <tr>\n",
       "      <th>1</th>\n",
       "      <td>1</td>\n",
       "      <td>1</td>\n",
       "      <td>male</td>\n",
       "      <td>0.9167</td>\n",
       "      <td>1</td>\n",
       "      <td>2</td>\n",
       "      <td>S</td>\n",
       "      <td>11</td>\n",
       "      <td>160.809917</td>\n",
       "    </tr>\n",
       "    <tr>\n",
       "      <th>2</th>\n",
       "      <td>1</td>\n",
       "      <td>0</td>\n",
       "      <td>female</td>\n",
       "      <td>2.0000</td>\n",
       "      <td>1</td>\n",
       "      <td>2</td>\n",
       "      <td>S</td>\n",
       "      <td>13</td>\n",
       "      <td>160.809917</td>\n",
       "    </tr>\n",
       "    <tr>\n",
       "      <th>3</th>\n",
       "      <td>1</td>\n",
       "      <td>0</td>\n",
       "      <td>male</td>\n",
       "      <td>30.0000</td>\n",
       "      <td>1</td>\n",
       "      <td>2</td>\n",
       "      <td>S</td>\n",
       "      <td>13</td>\n",
       "      <td>135.000000</td>\n",
       "    </tr>\n",
       "    <tr>\n",
       "      <th>4</th>\n",
       "      <td>1</td>\n",
       "      <td>0</td>\n",
       "      <td>female</td>\n",
       "      <td>25.0000</td>\n",
       "      <td>1</td>\n",
       "      <td>2</td>\n",
       "      <td>S</td>\n",
       "      <td>13</td>\n",
       "      <td>160.809917</td>\n",
       "    </tr>\n",
       "  </tbody>\n",
       "</table>\n",
       "</div>"
      ],
      "text/plain": [
       "   pclass  survived     sex      age  sibsp  parch embarked boat        body\n",
       "0       1         1  female  29.0000      0      0        S    2  160.809917\n",
       "1       1         1    male   0.9167      1      2        S   11  160.809917\n",
       "2       1         0  female   2.0000      1      2        S   13  160.809917\n",
       "3       1         0    male  30.0000      1      2        S   13  135.000000\n",
       "4       1         0  female  25.0000      1      2        S   13  160.809917"
      ]
     },
     "execution_count": 7,
     "metadata": {},
     "output_type": "execute_result"
    }
   ],
   "source": [
    "tn.head()"
   ]
  },
  {
   "cell_type": "code",
   "execution_count": 8,
   "id": "d4faa6d1",
   "metadata": {},
   "outputs": [
    {
     "data": {
      "text/plain": [
       "0       female\n",
       "1         male\n",
       "2       female\n",
       "3         male\n",
       "4       female\n",
       "         ...  \n",
       "1304    female\n",
       "1305    female\n",
       "1306      male\n",
       "1307      male\n",
       "1308      male\n",
       "Name: sex, Length: 1309, dtype: object"
      ]
     },
     "execution_count": 8,
     "metadata": {},
     "output_type": "execute_result"
    }
   ],
   "source": [
    "tn.sex"
   ]
  },
  {
   "cell_type": "markdown",
   "id": "bfa76334",
   "metadata": {},
   "source": [
    "# Non-Numeric to numeric"
   ]
  },
  {
   "cell_type": "code",
   "execution_count": 9,
   "id": "4e4adcaf",
   "metadata": {},
   "outputs": [],
   "source": [
    "from sklearn.preprocessing import LabelEncoder\n",
    "le = LabelEncoder()"
   ]
  },
  {
   "cell_type": "code",
   "execution_count": 10,
   "id": "59f25200",
   "metadata": {},
   "outputs": [],
   "source": [
    "# doing one by one\n",
    "\n",
    "tn.sex=tn.sex.astype('str')\n",
    "tn.embarked=tn.embarked.astype('str')\n",
    "tn.boat=tn.boat.astype('str')\n"
   ]
  },
  {
   "cell_type": "code",
   "execution_count": 11,
   "id": "39ab4bc2",
   "metadata": {
    "scrolled": false
   },
   "outputs": [],
   "source": [
    "# just a code to convert object to numeric data in one go\n",
    "\n",
    "tn[tn.select_dtypes(include=['object']).columns]=tn[tn.select_dtypes(include=['object']).columns].apply(le.fit_transform)"
   ]
  },
  {
   "cell_type": "code",
   "execution_count": 12,
   "id": "a81d649a",
   "metadata": {},
   "outputs": [
    {
     "name": "stdout",
     "output_type": "stream",
     "text": [
      "<class 'pandas.core.frame.DataFrame'>\n",
      "RangeIndex: 1309 entries, 0 to 1308\n",
      "Data columns (total 9 columns):\n",
      " #   Column    Non-Null Count  Dtype  \n",
      "---  ------    --------------  -----  \n",
      " 0   pclass    1309 non-null   int64  \n",
      " 1   survived  1309 non-null   int64  \n",
      " 2   sex       1309 non-null   int32  \n",
      " 3   age       1309 non-null   float64\n",
      " 4   sibsp     1309 non-null   int64  \n",
      " 5   parch     1309 non-null   int64  \n",
      " 6   embarked  1309 non-null   int32  \n",
      " 7   boat      1309 non-null   int32  \n",
      " 8   body      1309 non-null   float64\n",
      "dtypes: float64(2), int32(3), int64(4)\n",
      "memory usage: 76.8 KB\n"
     ]
    }
   ],
   "source": [
    "tn.info() # just confirming the data"
   ]
  },
  {
   "cell_type": "code",
   "execution_count": 13,
   "id": "e8c1ab58",
   "metadata": {},
   "outputs": [
    {
     "data": {
      "text/html": [
       "<div>\n",
       "<style scoped>\n",
       "    .dataframe tbody tr th:only-of-type {\n",
       "        vertical-align: middle;\n",
       "    }\n",
       "\n",
       "    .dataframe tbody tr th {\n",
       "        vertical-align: top;\n",
       "    }\n",
       "\n",
       "    .dataframe thead th {\n",
       "        text-align: right;\n",
       "    }\n",
       "</style>\n",
       "<table border=\"1\" class=\"dataframe\">\n",
       "  <thead>\n",
       "    <tr style=\"text-align: right;\">\n",
       "      <th></th>\n",
       "      <th>pclass</th>\n",
       "      <th>survived</th>\n",
       "      <th>sex</th>\n",
       "      <th>age</th>\n",
       "      <th>sibsp</th>\n",
       "      <th>parch</th>\n",
       "      <th>embarked</th>\n",
       "      <th>boat</th>\n",
       "      <th>body</th>\n",
       "    </tr>\n",
       "  </thead>\n",
       "  <tbody>\n",
       "    <tr>\n",
       "      <th>0</th>\n",
       "      <td>1</td>\n",
       "      <td>1</td>\n",
       "      <td>0</td>\n",
       "      <td>29.0000</td>\n",
       "      <td>0</td>\n",
       "      <td>0</td>\n",
       "      <td>2</td>\n",
       "      <td>11</td>\n",
       "      <td>160.809917</td>\n",
       "    </tr>\n",
       "    <tr>\n",
       "      <th>1</th>\n",
       "      <td>1</td>\n",
       "      <td>1</td>\n",
       "      <td>1</td>\n",
       "      <td>0.9167</td>\n",
       "      <td>1</td>\n",
       "      <td>2</td>\n",
       "      <td>2</td>\n",
       "      <td>2</td>\n",
       "      <td>160.809917</td>\n",
       "    </tr>\n",
       "    <tr>\n",
       "      <th>2</th>\n",
       "      <td>1</td>\n",
       "      <td>0</td>\n",
       "      <td>0</td>\n",
       "      <td>2.0000</td>\n",
       "      <td>1</td>\n",
       "      <td>2</td>\n",
       "      <td>2</td>\n",
       "      <td>4</td>\n",
       "      <td>160.809917</td>\n",
       "    </tr>\n",
       "    <tr>\n",
       "      <th>3</th>\n",
       "      <td>1</td>\n",
       "      <td>0</td>\n",
       "      <td>1</td>\n",
       "      <td>30.0000</td>\n",
       "      <td>1</td>\n",
       "      <td>2</td>\n",
       "      <td>2</td>\n",
       "      <td>4</td>\n",
       "      <td>135.000000</td>\n",
       "    </tr>\n",
       "    <tr>\n",
       "      <th>4</th>\n",
       "      <td>1</td>\n",
       "      <td>0</td>\n",
       "      <td>0</td>\n",
       "      <td>25.0000</td>\n",
       "      <td>1</td>\n",
       "      <td>2</td>\n",
       "      <td>2</td>\n",
       "      <td>4</td>\n",
       "      <td>160.809917</td>\n",
       "    </tr>\n",
       "    <tr>\n",
       "      <th>5</th>\n",
       "      <td>1</td>\n",
       "      <td>1</td>\n",
       "      <td>1</td>\n",
       "      <td>48.0000</td>\n",
       "      <td>0</td>\n",
       "      <td>0</td>\n",
       "      <td>2</td>\n",
       "      <td>12</td>\n",
       "      <td>160.809917</td>\n",
       "    </tr>\n",
       "    <tr>\n",
       "      <th>6</th>\n",
       "      <td>1</td>\n",
       "      <td>1</td>\n",
       "      <td>0</td>\n",
       "      <td>63.0000</td>\n",
       "      <td>1</td>\n",
       "      <td>0</td>\n",
       "      <td>2</td>\n",
       "      <td>1</td>\n",
       "      <td>160.809917</td>\n",
       "    </tr>\n",
       "    <tr>\n",
       "      <th>7</th>\n",
       "      <td>1</td>\n",
       "      <td>0</td>\n",
       "      <td>1</td>\n",
       "      <td>39.0000</td>\n",
       "      <td>0</td>\n",
       "      <td>0</td>\n",
       "      <td>2</td>\n",
       "      <td>4</td>\n",
       "      <td>160.809917</td>\n",
       "    </tr>\n",
       "    <tr>\n",
       "      <th>8</th>\n",
       "      <td>1</td>\n",
       "      <td>1</td>\n",
       "      <td>0</td>\n",
       "      <td>53.0000</td>\n",
       "      <td>2</td>\n",
       "      <td>0</td>\n",
       "      <td>2</td>\n",
       "      <td>26</td>\n",
       "      <td>160.809917</td>\n",
       "    </tr>\n",
       "    <tr>\n",
       "      <th>9</th>\n",
       "      <td>1</td>\n",
       "      <td>0</td>\n",
       "      <td>1</td>\n",
       "      <td>71.0000</td>\n",
       "      <td>0</td>\n",
       "      <td>0</td>\n",
       "      <td>0</td>\n",
       "      <td>4</td>\n",
       "      <td>22.000000</td>\n",
       "    </tr>\n",
       "  </tbody>\n",
       "</table>\n",
       "</div>"
      ],
      "text/plain": [
       "   pclass  survived  sex      age  sibsp  parch  embarked  boat        body\n",
       "0       1         1    0  29.0000      0      0         2    11  160.809917\n",
       "1       1         1    1   0.9167      1      2         2     2  160.809917\n",
       "2       1         0    0   2.0000      1      2         2     4  160.809917\n",
       "3       1         0    1  30.0000      1      2         2     4  135.000000\n",
       "4       1         0    0  25.0000      1      2         2     4  160.809917\n",
       "5       1         1    1  48.0000      0      0         2    12  160.809917\n",
       "6       1         1    0  63.0000      1      0         2     1  160.809917\n",
       "7       1         0    1  39.0000      0      0         2     4  160.809917\n",
       "8       1         1    0  53.0000      2      0         2    26  160.809917\n",
       "9       1         0    1  71.0000      0      0         0     4   22.000000"
      ]
     },
     "execution_count": 13,
     "metadata": {},
     "output_type": "execute_result"
    }
   ],
   "source": [
    "tn.head(10)"
   ]
  },
  {
   "cell_type": "markdown",
   "id": "c7bdb162",
   "metadata": {},
   "source": [
    "# Data Sampling "
   ]
  },
  {
   "cell_type": "code",
   "execution_count": 14,
   "id": "d20d5a3a",
   "metadata": {},
   "outputs": [],
   "source": [
    "from sklearn.model_selection import train_test_split\n"
   ]
  },
  {
   "cell_type": "code",
   "execution_count": 15,
   "id": "4f481d6e",
   "metadata": {},
   "outputs": [],
   "source": [
    "train_tn , test_tn = train_test_split(tn,test_size = .2)"
   ]
  },
  {
   "cell_type": "code",
   "execution_count": 16,
   "id": "2fb9c65b",
   "metadata": {},
   "outputs": [],
   "source": [
    "train_tn_x = train_tn.iloc[: , [0,2,3,4,5,6,7]]\n",
    "train_tn_y = train_tn.iloc[: , 1]"
   ]
  },
  {
   "cell_type": "code",
   "execution_count": 17,
   "id": "1007ce39",
   "metadata": {},
   "outputs": [],
   "source": [
    "test_tn_x = test_tn.iloc[: , [0,2,3,4,5,6,7]]\n",
    "test_tn_y = test_tn.iloc[: , 1]"
   ]
  },
  {
   "cell_type": "code",
   "execution_count": 18,
   "id": "144ae130",
   "metadata": {},
   "outputs": [
    {
     "name": "stdout",
     "output_type": "stream",
     "text": [
      "(1047, 7)\n",
      "(1047,)\n",
      "-------\n",
      "(262, 7)\n",
      "(262,)\n"
     ]
    }
   ],
   "source": [
    "print(train_tn_x.shape)\n",
    "print(train_tn_y.shape)\n",
    "print(\"-------\")\n",
    "print(test_tn_x.shape)\n",
    "print(test_tn_y.shape)"
   ]
  },
  {
   "cell_type": "markdown",
   "id": "942ad293",
   "metadata": {},
   "source": [
    "# Building the Model"
   ]
  },
  {
   "cell_type": "code",
   "execution_count": 19,
   "id": "1a8cfaa7",
   "metadata": {},
   "outputs": [],
   "source": [
    "from sklearn.linear_model import LogisticRegression"
   ]
  },
  {
   "cell_type": "code",
   "execution_count": 20,
   "id": "43102e99",
   "metadata": {},
   "outputs": [],
   "source": [
    "log_tn = LogisticRegression()"
   ]
  },
  {
   "cell_type": "code",
   "execution_count": 22,
   "id": "87f1fe22",
   "metadata": {},
   "outputs": [],
   "source": [
    "log_tn.fit(train_tn_x , train_tn_y); # model has been build"
   ]
  },
  {
   "cell_type": "code",
   "execution_count": 23,
   "id": "2dbeb6fa",
   "metadata": {},
   "outputs": [],
   "source": [
    "pred = log_tn.predict(test_tn_x)"
   ]
  },
  {
   "cell_type": "code",
   "execution_count": 24,
   "id": "0dde4154",
   "metadata": {},
   "outputs": [
    {
     "data": {
      "text/plain": [
       "262"
      ]
     },
     "execution_count": 24,
     "metadata": {},
     "output_type": "execute_result"
    }
   ],
   "source": [
    "len(pred) # record in test data"
   ]
  },
  {
   "cell_type": "code",
   "execution_count": 26,
   "id": "55cf4383",
   "metadata": {},
   "outputs": [
    {
     "data": {
      "text/html": [
       "<div>\n",
       "<style scoped>\n",
       "    .dataframe tbody tr th:only-of-type {\n",
       "        vertical-align: middle;\n",
       "    }\n",
       "\n",
       "    .dataframe tbody tr th {\n",
       "        vertical-align: top;\n",
       "    }\n",
       "\n",
       "    .dataframe thead th {\n",
       "        text-align: right;\n",
       "    }\n",
       "</style>\n",
       "<table border=\"1\" class=\"dataframe\">\n",
       "  <thead>\n",
       "    <tr style=\"text-align: right;\">\n",
       "      <th>col_0</th>\n",
       "      <th>0</th>\n",
       "      <th>1</th>\n",
       "    </tr>\n",
       "    <tr>\n",
       "      <th>survived</th>\n",
       "      <th></th>\n",
       "      <th></th>\n",
       "    </tr>\n",
       "  </thead>\n",
       "  <tbody>\n",
       "    <tr>\n",
       "      <th>0</th>\n",
       "      <td>156</td>\n",
       "      <td>5</td>\n",
       "    </tr>\n",
       "    <tr>\n",
       "      <th>1</th>\n",
       "      <td>23</td>\n",
       "      <td>78</td>\n",
       "    </tr>\n",
       "  </tbody>\n",
       "</table>\n",
       "</div>"
      ],
      "text/plain": [
       "col_0       0   1\n",
       "survived         \n",
       "0         156   5\n",
       "1          23  78"
      ]
     },
     "execution_count": 26,
     "metadata": {},
     "output_type": "execute_result"
    }
   ],
   "source": [
    "pd.crosstab(test_tn_y , pred) "
   ]
  },
  {
   "cell_type": "markdown",
   "id": "8576aae1",
   "metadata": {},
   "source": [
    "# confusion matrix"
   ]
  },
  {
   "cell_type": "code",
   "execution_count": 27,
   "id": "48b46111",
   "metadata": {},
   "outputs": [],
   "source": [
    "from sklearn.metrics import confusion_matrix"
   ]
  },
  {
   "cell_type": "code",
   "execution_count": 28,
   "id": "f1aa7cc7",
   "metadata": {},
   "outputs": [
    {
     "data": {
      "text/plain": [
       "array([[156,   5],\n",
       "       [ 23,  78]], dtype=int64)"
      ]
     },
     "execution_count": 28,
     "metadata": {},
     "output_type": "execute_result"
    }
   ],
   "source": [
    "tab_tn = confusion_matrix(test_tn_y , pred)\n",
    "tab_tn # from top it is predicted"
   ]
  },
  {
   "cell_type": "code",
   "execution_count": 29,
   "id": "6bfa07a3",
   "metadata": {},
   "outputs": [
    {
     "data": {
      "text/plain": [
       "array([[156,  23],\n",
       "       [  5,  78]], dtype=int64)"
      ]
     },
     "execution_count": 29,
     "metadata": {},
     "output_type": "execute_result"
    }
   ],
   "source": [
    "tab_tn = confusion_matrix( pred , test_tn_y )\n",
    "tab_tn # predicted from left to right"
   ]
  },
  {
   "cell_type": "markdown",
   "id": "51fd3222",
   "metadata": {},
   "source": [
    "# Accuracy"
   ]
  },
  {
   "cell_type": "code",
   "execution_count": 30,
   "id": "c0e22c5f",
   "metadata": {},
   "outputs": [],
   "source": [
    "from sklearn.metrics import accuracy_score # for accuracy "
   ]
  },
  {
   "cell_type": "code",
   "execution_count": 31,
   "id": "d6771c3a",
   "metadata": {},
   "outputs": [
    {
     "data": {
      "text/plain": [
       "0.8931297709923665"
      ]
     },
     "execution_count": 31,
     "metadata": {},
     "output_type": "execute_result"
    }
   ],
   "source": [
    "accuracy_score(test_tn_y , pred)"
   ]
  },
  {
   "cell_type": "markdown",
   "id": "066a5289",
   "metadata": {},
   "source": [
    "# precision"
   ]
  },
  {
   "cell_type": "code",
   "execution_count": 32,
   "id": "3b95892b",
   "metadata": {},
   "outputs": [],
   "source": [
    "from sklearn.metrics import precision_score # for precision"
   ]
  },
  {
   "cell_type": "code",
   "execution_count": 33,
   "id": "2e32c01a",
   "metadata": {},
   "outputs": [
    {
     "data": {
      "text/plain": [
       "0.9397590361445783"
      ]
     },
     "execution_count": 33,
     "metadata": {},
     "output_type": "execute_result"
    }
   ],
   "source": [
    "precision_score(test_tn_y ,pred)"
   ]
  },
  {
   "cell_type": "markdown",
   "id": "16126c4e",
   "metadata": {},
   "source": [
    "# recall"
   ]
  },
  {
   "cell_type": "code",
   "execution_count": 34,
   "id": "157a0084",
   "metadata": {},
   "outputs": [],
   "source": [
    "from sklearn.metrics import recall_score # to find recall"
   ]
  },
  {
   "cell_type": "code",
   "execution_count": 35,
   "id": "ff64acd6",
   "metadata": {},
   "outputs": [
    {
     "data": {
      "text/plain": [
       "0.7722772277227723"
      ]
     },
     "execution_count": 35,
     "metadata": {},
     "output_type": "execute_result"
    }
   ],
   "source": [
    "recall_score(test_tn_y , pred)"
   ]
  },
  {
   "cell_type": "markdown",
   "id": "316bc505",
   "metadata": {},
   "source": [
    "# F1 ratio"
   ]
  },
  {
   "cell_type": "code",
   "execution_count": 36,
   "id": "897ad905",
   "metadata": {},
   "outputs": [],
   "source": [
    "from sklearn.metrics import f1_score # to find f1 ratio"
   ]
  },
  {
   "cell_type": "code",
   "execution_count": 37,
   "id": "a0dd9cc0",
   "metadata": {},
   "outputs": [
    {
     "data": {
      "text/plain": [
       "0.8478260869565218"
      ]
     },
     "execution_count": 37,
     "metadata": {},
     "output_type": "execute_result"
    }
   ],
   "source": [
    "f1_score(test_tn_y , pred)"
   ]
  },
  {
   "cell_type": "markdown",
   "id": "8682a1e5",
   "metadata": {},
   "source": [
    "# ROC curve"
   ]
  },
  {
   "cell_type": "code",
   "execution_count": 38,
   "id": "fe7c2274",
   "metadata": {},
   "outputs": [],
   "source": [
    "from sklearn.metrics import roc_auc_score\n",
    "from sklearn.metrics import roc_curve"
   ]
  },
  {
   "cell_type": "code",
   "execution_count": 39,
   "id": "11bf6b87",
   "metadata": {},
   "outputs": [],
   "source": [
    "pred = log_tn.predict(test_tn_x) #pred"
   ]
  },
  {
   "cell_type": "code",
   "execution_count": 41,
   "id": "444a756c",
   "metadata": {},
   "outputs": [],
   "source": [
    "pred_prob = log_tn.predict_proba(test_tn_x) # proba mean to predict probsblity"
   ]
  },
  {
   "cell_type": "code",
   "execution_count": 42,
   "id": "f23a2a25",
   "metadata": {},
   "outputs": [
    {
     "data": {
      "text/plain": [
       "array([[8.43494272e-01, 1.56505728e-01],\n",
       "       [8.37983511e-01, 1.62016489e-01],\n",
       "       [2.07718996e-03, 9.97922810e-01],\n",
       "       [9.53579509e-01, 4.64204911e-02],\n",
       "       [1.39130363e-02, 9.86086964e-01],\n",
       "       [7.79856041e-01, 2.20143959e-01],\n",
       "       [8.48851401e-01, 1.51148599e-01],\n",
       "       [9.09031243e-01, 9.09687575e-02],\n",
       "       [9.72822949e-01, 2.71770506e-02],\n",
       "       [9.63608814e-01, 3.63911862e-02],\n",
       "       [9.42620139e-01, 5.73798609e-02],\n",
       "       [9.31741226e-01, 6.82587739e-02],\n",
       "       [9.45019339e-01, 5.49806609e-02],\n",
       "       [2.19352482e-03, 9.97806475e-01],\n",
       "       [8.31299058e-01, 1.68700942e-01],\n",
       "       [8.89639664e-02, 9.11036034e-01],\n",
       "       [5.04634807e-01, 4.95365193e-01],\n",
       "       [9.45019339e-01, 5.49806609e-02],\n",
       "       [4.25097884e-03, 9.95749021e-01],\n",
       "       [6.77918585e-01, 3.22081415e-01],\n",
       "       [2.06461866e-03, 9.97935381e-01],\n",
       "       [8.78423863e-01, 1.21576137e-01],\n",
       "       [9.21244321e-01, 7.87556785e-02],\n",
       "       [9.57710565e-01, 4.22894351e-02],\n",
       "       [7.42648419e-01, 2.57351581e-01],\n",
       "       [1.67964645e-03, 9.98320354e-01],\n",
       "       [9.41470876e-01, 5.85291239e-02],\n",
       "       [3.93172322e-01, 6.06827678e-01],\n",
       "       [9.16173902e-01, 8.38260981e-02],\n",
       "       [9.40308085e-01, 5.96919153e-02],\n",
       "       [9.36012064e-01, 6.39879361e-02],\n",
       "       [2.13512982e-02, 9.78648702e-01],\n",
       "       [5.06695338e-01, 4.93304662e-01],\n",
       "       [8.82232368e-01, 1.17767632e-01],\n",
       "       [9.40308085e-01, 5.96919153e-02],\n",
       "       [2.47636388e-02, 9.75236361e-01],\n",
       "       [7.94912779e-01, 2.05087221e-01],\n",
       "       [9.31429406e-01, 6.85705942e-02],\n",
       "       [3.94490926e-01, 6.05509074e-01],\n",
       "       [7.49518744e-01, 2.50481256e-01],\n",
       "       [4.71974681e-01, 5.28025319e-01],\n",
       "       [9.06190314e-01, 9.38096856e-02],\n",
       "       [8.03867308e-01, 1.96132692e-01],\n",
       "       [6.08333629e-02, 9.39166637e-01],\n",
       "       [2.36092120e-03, 9.97639079e-01],\n",
       "       [8.64414730e-01, 1.35585270e-01],\n",
       "       [8.27337018e-01, 1.72662982e-01],\n",
       "       [7.18805713e-01, 2.81194287e-01],\n",
       "       [5.36278882e-01, 4.63721118e-01],\n",
       "       [9.31429406e-01, 6.85705942e-02],\n",
       "       [9.31429406e-01, 6.85705942e-02],\n",
       "       [9.02632327e-01, 9.73676730e-02],\n",
       "       [8.87471383e-01, 1.12528617e-01],\n",
       "       [8.55496063e-01, 1.44503937e-01],\n",
       "       [4.73285063e-01, 5.26714937e-01],\n",
       "       [9.64325267e-01, 3.56747330e-02],\n",
       "       [7.01690069e-01, 2.98309931e-01],\n",
       "       [9.52069250e-01, 4.79307499e-02],\n",
       "       [5.71549609e-03, 9.94284504e-01],\n",
       "       [4.21869053e-01, 5.78130947e-01],\n",
       "       [8.98893965e-02, 9.10110603e-01],\n",
       "       [9.40308085e-01, 5.96919153e-02],\n",
       "       [9.72486019e-01, 2.75139807e-02],\n",
       "       [9.36012064e-01, 6.39879361e-02],\n",
       "       [9.28181887e-01, 7.18181135e-02],\n",
       "       [9.71218044e-01, 2.87819556e-02],\n",
       "       [1.57063237e-03, 9.98429368e-01],\n",
       "       [8.89672875e-01, 1.10327125e-01],\n",
       "       [4.86072718e-01, 5.13927282e-01],\n",
       "       [9.35811087e-01, 6.41889127e-02],\n",
       "       [5.98506965e-01, 4.01493035e-01],\n",
       "       [9.30214222e-01, 6.97857782e-02],\n",
       "       [9.22872086e-01, 7.71279139e-02],\n",
       "       [8.64021546e-01, 1.35978454e-01],\n",
       "       [7.55788193e-03, 9.92442118e-01],\n",
       "       [9.35811087e-01, 6.41889127e-02],\n",
       "       [2.47957145e-03, 9.97520429e-01],\n",
       "       [9.36012064e-01, 6.39879361e-02],\n",
       "       [1.34486189e-01, 8.65513811e-01],\n",
       "       [9.45019339e-01, 5.49806609e-02],\n",
       "       [9.57815932e-01, 4.21840677e-02],\n",
       "       [4.57924271e-01, 5.42075729e-01],\n",
       "       [3.41885843e-01, 6.58114157e-01],\n",
       "       [8.58229620e-01, 1.41770380e-01],\n",
       "       [9.33293849e-01, 6.67061506e-02],\n",
       "       [1.13786199e-01, 8.86213801e-01],\n",
       "       [7.70301257e-01, 2.29698743e-01],\n",
       "       [5.91907010e-01, 4.08092990e-01],\n",
       "       [7.96471822e-01, 2.03528178e-01],\n",
       "       [9.27003537e-01, 7.29964630e-02],\n",
       "       [8.92770285e-01, 1.07229715e-01],\n",
       "       [9.27982422e-01, 7.20175781e-02],\n",
       "       [9.53430964e-01, 4.65690362e-02],\n",
       "       [9.88904656e-03, 9.90110953e-01],\n",
       "       [9.51138483e-01, 4.88615166e-02],\n",
       "       [2.34456731e-02, 9.76554327e-01],\n",
       "       [1.87926963e-01, 8.12073037e-01],\n",
       "       [7.76695176e-04, 9.99223305e-01],\n",
       "       [9.33293849e-01, 6.67061506e-02],\n",
       "       [9.43391927e-01, 5.66080727e-02],\n",
       "       [9.58246042e-01, 4.17539580e-02],\n",
       "       [9.14170822e-02, 9.08582918e-01],\n",
       "       [8.57747791e-03, 9.91422522e-01],\n",
       "       [9.31429406e-01, 6.85705942e-02],\n",
       "       [1.56556520e-03, 9.98434435e-01],\n",
       "       [9.82316634e-01, 1.76833657e-02],\n",
       "       [1.14667866e-02, 9.88533213e-01],\n",
       "       [8.86742498e-01, 1.13257502e-01],\n",
       "       [9.74074670e-01, 2.59253298e-02],\n",
       "       [3.51659487e-02, 9.64834051e-01],\n",
       "       [9.49143124e-01, 5.08568761e-02],\n",
       "       [9.47119172e-01, 5.28808278e-02],\n",
       "       [1.32755359e-02, 9.86724464e-01],\n",
       "       [8.68785338e-01, 1.31214662e-01],\n",
       "       [9.53034815e-01, 4.69651852e-02],\n",
       "       [8.08067115e-01, 1.91932885e-01],\n",
       "       [5.17815907e-01, 4.82184093e-01],\n",
       "       [9.62881891e-01, 3.71181094e-02],\n",
       "       [9.16173902e-01, 8.38260981e-02],\n",
       "       [8.49234425e-01, 1.50765575e-01],\n",
       "       [9.96511765e-02, 9.00348823e-01],\n",
       "       [1.69966804e-03, 9.98300332e-01],\n",
       "       [4.15071578e-02, 9.58492842e-01],\n",
       "       [8.14370029e-01, 1.85629971e-01],\n",
       "       [9.22694358e-01, 7.73056419e-02],\n",
       "       [9.40308085e-01, 5.96919153e-02],\n",
       "       [5.36278882e-01, 4.63721118e-01],\n",
       "       [9.36012064e-01, 6.39879361e-02],\n",
       "       [8.76605215e-02, 9.12339478e-01],\n",
       "       [9.09031243e-01, 9.09687575e-02],\n",
       "       [7.50436147e-01, 2.49563853e-01],\n",
       "       [9.58207410e-01, 4.17925897e-02],\n",
       "       [3.41588145e-03, 9.96584119e-01],\n",
       "       [9.68597460e-01, 3.14025402e-02],\n",
       "       [6.95623517e-01, 3.04376483e-01],\n",
       "       [6.67269927e-01, 3.32730073e-01],\n",
       "       [8.55496063e-01, 1.44503937e-01],\n",
       "       [9.50822276e-01, 4.91777237e-02],\n",
       "       [7.49518744e-01, 2.50481256e-01],\n",
       "       [9.32839310e-01, 6.71606896e-02],\n",
       "       [8.98954441e-01, 1.01045559e-01],\n",
       "       [9.42984681e-01, 5.70153191e-02],\n",
       "       [6.04944257e-03, 9.93950557e-01],\n",
       "       [1.25160946e-02, 9.87483905e-01],\n",
       "       [9.53048946e-02, 9.04695105e-01],\n",
       "       [8.89107324e-01, 1.10892676e-01],\n",
       "       [9.47631011e-01, 5.23689892e-02],\n",
       "       [4.45176754e-01, 5.54823246e-01],\n",
       "       [9.36012064e-01, 6.39879361e-02],\n",
       "       [3.11692356e-01, 6.88307644e-01],\n",
       "       [4.73788847e-01, 5.26211153e-01],\n",
       "       [9.16173902e-01, 8.38260981e-02],\n",
       "       [8.08067115e-01, 1.91932885e-01],\n",
       "       [9.09631303e-01, 9.03686967e-02],\n",
       "       [8.63424261e-02, 9.13657574e-01],\n",
       "       [1.62751895e-02, 9.83724811e-01],\n",
       "       [2.34456731e-02, 9.76554327e-01],\n",
       "       [8.69125635e-01, 1.30874365e-01],\n",
       "       [8.76685577e-01, 1.23314423e-01],\n",
       "       [6.97159771e-01, 3.02840229e-01],\n",
       "       [8.06749271e-02, 9.19325073e-01],\n",
       "       [4.18929404e-01, 5.81070596e-01],\n",
       "       [1.96701871e-02, 9.80329813e-01],\n",
       "       [9.33293849e-01, 6.67061506e-02],\n",
       "       [5.36278882e-01, 4.63721118e-01],\n",
       "       [4.85615046e-01, 5.14384954e-01],\n",
       "       [9.65714515e-01, 3.42854853e-02],\n",
       "       [1.54477987e-03, 9.98455220e-01],\n",
       "       [9.31429406e-01, 6.85705942e-02],\n",
       "       [9.17431388e-01, 8.25686115e-02],\n",
       "       [5.45667502e-01, 4.54332498e-01],\n",
       "       [3.42691688e-03, 9.96573083e-01],\n",
       "       [9.68658867e-01, 3.13411330e-02],\n",
       "       [1.92884317e-03, 9.98071157e-01],\n",
       "       [3.85948156e-01, 6.14051844e-01],\n",
       "       [8.98291411e-01, 1.01708589e-01],\n",
       "       [8.90810890e-01, 1.09189110e-01],\n",
       "       [1.90036633e-03, 9.98099634e-01],\n",
       "       [9.47119172e-01, 5.28808278e-02],\n",
       "       [2.19084233e-01, 7.80915767e-01],\n",
       "       [4.07734387e-01, 5.92265613e-01],\n",
       "       [7.49518744e-01, 2.50481256e-01],\n",
       "       [8.02960134e-04, 9.99197040e-01],\n",
       "       [9.06190314e-01, 9.38096856e-02],\n",
       "       [2.23365026e-03, 9.97766350e-01],\n",
       "       [7.49518744e-01, 2.50481256e-01],\n",
       "       [7.49518744e-01, 2.50481256e-01],\n",
       "       [2.09068040e-02, 9.79093196e-01],\n",
       "       [9.40308085e-01, 5.96919153e-02],\n",
       "       [1.62301212e-01, 8.37698788e-01],\n",
       "       [9.33413918e-01, 6.65860824e-02],\n",
       "       [9.64325267e-01, 3.56747330e-02],\n",
       "       [9.40308085e-01, 5.96919153e-02],\n",
       "       [9.50188033e-01, 4.98119667e-02],\n",
       "       [9.66143232e-01, 3.38567685e-02],\n",
       "       [8.90519875e-01, 1.09480125e-01],\n",
       "       [5.31930226e-01, 4.68069774e-01],\n",
       "       [9.40308085e-01, 5.96919153e-02],\n",
       "       [9.19281307e-01, 8.07186930e-02],\n",
       "       [9.36012064e-01, 6.39879361e-02],\n",
       "       [9.06190314e-01, 9.38096856e-02],\n",
       "       [8.54056885e-01, 1.45943115e-01],\n",
       "       [9.36012064e-01, 6.39879361e-02],\n",
       "       [5.80194073e-01, 4.19805927e-01],\n",
       "       [9.36012064e-01, 6.39879361e-02],\n",
       "       [9.30685207e-01, 6.93147929e-02],\n",
       "       [8.37983511e-01, 1.62016489e-01],\n",
       "       [8.26493922e-01, 1.73506078e-01],\n",
       "       [9.40308085e-01, 5.96919153e-02],\n",
       "       [9.22283293e-01, 7.77167070e-02],\n",
       "       [6.42228630e-01, 3.57771370e-01],\n",
       "       [1.12245679e-02, 9.88775432e-01],\n",
       "       [5.00858392e-01, 4.99141608e-01],\n",
       "       [3.21368810e-01, 6.78631190e-01],\n",
       "       [9.62881891e-01, 3.71181094e-02],\n",
       "       [9.31429406e-01, 6.85705942e-02],\n",
       "       [7.35657446e-03, 9.92643426e-01],\n",
       "       [3.34375397e-01, 6.65624603e-01],\n",
       "       [9.19281307e-01, 8.07186930e-02],\n",
       "       [1.21138748e-03, 9.98788613e-01],\n",
       "       [8.37983511e-01, 1.62016489e-01],\n",
       "       [9.31023589e-01, 6.89764109e-02],\n",
       "       [8.65922370e-03, 9.91340776e-01],\n",
       "       [9.49763785e-01, 5.02362147e-02],\n",
       "       [5.54642932e-01, 4.45357068e-01],\n",
       "       [4.04965155e-01, 5.95034845e-01],\n",
       "       [8.40209368e-01, 1.59790632e-01],\n",
       "       [9.42059751e-01, 5.79402490e-02],\n",
       "       [9.40308085e-01, 5.96919153e-02],\n",
       "       [9.73873548e-01, 2.61264519e-02],\n",
       "       [4.77101763e-01, 5.22898237e-01],\n",
       "       [8.93779739e-01, 1.06220261e-01],\n",
       "       [7.66168141e-02, 9.23383186e-01],\n",
       "       [1.15204542e-01, 8.84795458e-01],\n",
       "       [9.15049205e-01, 8.49507948e-02],\n",
       "       [9.35811087e-01, 6.41889127e-02],\n",
       "       [6.01289719e-01, 3.98710281e-01],\n",
       "       [7.09105799e-01, 2.90894201e-01],\n",
       "       [9.14005760e-01, 8.59942400e-02],\n",
       "       [9.31429406e-01, 6.85705942e-02],\n",
       "       [9.16173902e-01, 8.38260981e-02],\n",
       "       [8.14821369e-01, 1.85178631e-01],\n",
       "       [9.35811087e-01, 6.41889127e-02],\n",
       "       [2.50334900e-01, 7.49665100e-01],\n",
       "       [9.56527668e-01, 4.34723320e-02],\n",
       "       [9.36012064e-01, 6.39879361e-02],\n",
       "       [9.40174046e-01, 5.98259545e-02],\n",
       "       [1.33234400e-03, 9.98667656e-01],\n",
       "       [8.64170443e-01, 1.35829557e-01],\n",
       "       [8.19161905e-03, 9.91808381e-01],\n",
       "       [7.35310091e-04, 9.99264690e-01],\n",
       "       [9.18739599e-01, 8.12604007e-02],\n",
       "       [3.34375397e-01, 6.65624603e-01],\n",
       "       [2.18258836e-03, 9.97817412e-01],\n",
       "       [9.40582105e-01, 5.94178945e-02],\n",
       "       [9.36539847e-01, 6.34601535e-02],\n",
       "       [9.49636414e-01, 5.03635858e-02],\n",
       "       [9.10628905e-01, 8.93710948e-02],\n",
       "       [9.09631303e-01, 9.03686967e-02],\n",
       "       [9.40308085e-01, 5.96919153e-02],\n",
       "       [2.78490905e-02, 9.72150909e-01],\n",
       "       [5.29453798e-02, 9.47054620e-01]])"
      ]
     },
     "execution_count": 42,
     "metadata": {},
     "output_type": "execute_result"
    }
   ],
   "source": [
    "pred_prob"
   ]
  },
  {
   "cell_type": "code",
   "execution_count": 43,
   "id": "eec34fa0",
   "metadata": {},
   "outputs": [
    {
     "data": {
      "text/plain": [
       "0.8706106635508272"
      ]
     },
     "execution_count": 43,
     "metadata": {},
     "output_type": "execute_result"
    }
   ],
   "source": [
    "roc_auc_score(test_tn_y , pred) # this is the area under the curve"
   ]
  },
  {
   "cell_type": "markdown",
   "id": "1db53c96",
   "metadata": {},
   "source": [
    "# Plotting the curve"
   ]
  },
  {
   "cell_type": "code",
   "execution_count": 44,
   "id": "49b2da59",
   "metadata": {},
   "outputs": [],
   "source": [
    "import matplotlib.pyplot as plt"
   ]
  },
  {
   "cell_type": "code",
   "execution_count": 47,
   "id": "dd85833f",
   "metadata": {},
   "outputs": [],
   "source": [
    "# ROC CURVE\n",
    "fpr , tpr , thres = roc_curve(test_tn_y , pred_prob[: , 1])  # this will return 3 things fpr tpr thres"
   ]
  },
  {
   "cell_type": "code",
   "execution_count": 48,
   "id": "6027c438",
   "metadata": {},
   "outputs": [
    {
     "data": {
      "text/plain": [
       "[<matplotlib.lines.Line2D at 0x15f106f46a0>]"
      ]
     },
     "execution_count": 48,
     "metadata": {},
     "output_type": "execute_result"
    },
    {
     "data": {
      "image/png": "[encoded data removed]",
      "text/plain": [
       "<Figure size 432x288 with 1 Axes>"
      ]
     },
     "metadata": {
      "needs_background": "light"
     },
     "output_type": "display_data"
    }
   ],
   "source": [
    "plt.plot(fpr , tpr) # graph of curve"
   ]
  },
  {
   "cell_type": "code",
   "execution_count": 49,
   "id": "fca784a0",
   "metadata": {},
   "outputs": [
    {
     "data": {
      "text/plain": [
       "Text(0.5, 0.5, 'Auroc is 0.8706106635508272 ')"
      ]
     },
     "execution_count": 49,
     "metadata": {},
     "output_type": "execute_result"
    },
    {
     "data": {
      "image/png": "[encoded data removed]",
      "text/plain": [
       "<Figure size 432x288 with 1 Axes>"
      ]
     },
     "metadata": {
      "needs_background": "light"
     },
     "output_type": "display_data"
    }
   ],
   "source": [
    "# not looking lets represent it\n",
    "plt.plot(fpr , tpr , color = 'r')\n",
    "plt.xlabel(\"Fpr\") # show on x axis\n",
    "plt.ylabel(\"TPr\") # show on y axis\n",
    "plt.title(\"Auroc on Titanic Data\") # to add title\n",
    "plt.grid() # to show grid\n",
    "plt.text(x = .5 , y = .5 , s=\"Auroc is 0.8706106635508272 \") # to plot text"
   ]
  },
  {
   "cell_type": "code",
   "execution_count": 50,
   "id": "c9033b52",
   "metadata": {},
   "outputs": [],
   "source": [
    "import pandas as pd"
   ]
  },
  {
   "cell_type": "code",
   "execution_count": 51,
   "id": "7bd215da",
   "metadata": {},
   "outputs": [],
   "source": [
    "tn = pd.read_excel(r\"F:\\carreer\\titanic3.xls\")"
   ]
  },
  {
   "cell_type": "code",
   "execution_count": 52,
   "id": "ffc987c0",
   "metadata": {},
   "outputs": [
    {
     "data": {
      "text/html": [
       "<div>\n",
       "<style scoped>\n",
       "    .dataframe tbody tr th:only-of-type {\n",
       "        vertical-align: middle;\n",
       "    }\n",
       "\n",
       "    .dataframe tbody tr th {\n",
       "        vertical-align: top;\n",
       "    }\n",
       "\n",
       "    .dataframe thead th {\n",
       "        text-align: right;\n",
       "    }\n",
       "</style>\n",
       "<table border=\"1\" class=\"dataframe\">\n",
       "  <thead>\n",
       "    <tr style=\"text-align: right;\">\n",
       "      <th></th>\n",
       "      <th>pclass</th>\n",
       "      <th>survived</th>\n",
       "      <th>name</th>\n",
       "      <th>sex</th>\n",
       "      <th>age</th>\n",
       "      <th>sibsp</th>\n",
       "      <th>parch</th>\n",
       "      <th>ticket</th>\n",
       "      <th>fare</th>\n",
       "      <th>cabin</th>\n",
       "      <th>embarked</th>\n",
       "      <th>boat</th>\n",
       "      <th>body</th>\n",
       "      <th>home.dest</th>\n",
       "    </tr>\n",
       "  </thead>\n",
       "  <tbody>\n",
       "    <tr>\n",
       "      <th>0</th>\n",
       "      <td>1</td>\n",
       "      <td>1</td>\n",
       "      <td>Allen, Miss. Elisabeth Walton</td>\n",
       "      <td>female</td>\n",
       "      <td>29.0000</td>\n",
       "      <td>0</td>\n",
       "      <td>0</td>\n",
       "      <td>24160</td>\n",
       "      <td>211.3375</td>\n",
       "      <td>B5</td>\n",
       "      <td>S</td>\n",
       "      <td>2</td>\n",
       "      <td>NaN</td>\n",
       "      <td>St Louis, MO</td>\n",
       "    </tr>\n",
       "    <tr>\n",
       "      <th>1</th>\n",
       "      <td>1</td>\n",
       "      <td>1</td>\n",
       "      <td>Allison, Master. Hudson Trevor</td>\n",
       "      <td>male</td>\n",
       "      <td>0.9167</td>\n",
       "      <td>1</td>\n",
       "      <td>2</td>\n",
       "      <td>113781</td>\n",
       "      <td>151.5500</td>\n",
       "      <td>C22 C26</td>\n",
       "      <td>S</td>\n",
       "      <td>11</td>\n",
       "      <td>NaN</td>\n",
       "      <td>Montreal, PQ / Chesterville, ON</td>\n",
       "    </tr>\n",
       "    <tr>\n",
       "      <th>2</th>\n",
       "      <td>1</td>\n",
       "      <td>0</td>\n",
       "      <td>Allison, Miss. Helen Loraine</td>\n",
       "      <td>female</td>\n",
       "      <td>2.0000</td>\n",
       "      <td>1</td>\n",
       "      <td>2</td>\n",
       "      <td>113781</td>\n",
       "      <td>151.5500</td>\n",
       "      <td>C22 C26</td>\n",
       "      <td>S</td>\n",
       "      <td>NaN</td>\n",
       "      <td>NaN</td>\n",
       "      <td>Montreal, PQ / Chesterville, ON</td>\n",
       "    </tr>\n",
       "    <tr>\n",
       "      <th>3</th>\n",
       "      <td>1</td>\n",
       "      <td>0</td>\n",
       "      <td>Allison, Mr. Hudson Joshua Creighton</td>\n",
       "      <td>male</td>\n",
       "      <td>30.0000</td>\n",
       "      <td>1</td>\n",
       "      <td>2</td>\n",
       "      <td>113781</td>\n",
       "      <td>151.5500</td>\n",
       "      <td>C22 C26</td>\n",
       "      <td>S</td>\n",
       "      <td>NaN</td>\n",
       "      <td>135.0</td>\n",
       "      <td>Montreal, PQ / Chesterville, ON</td>\n",
       "    </tr>\n",
       "    <tr>\n",
       "      <th>4</th>\n",
       "      <td>1</td>\n",
       "      <td>0</td>\n",
       "      <td>Allison, Mrs. Hudson J C (Bessie Waldo Daniels)</td>\n",
       "      <td>female</td>\n",
       "      <td>25.0000</td>\n",
       "      <td>1</td>\n",
       "      <td>2</td>\n",
       "      <td>113781</td>\n",
       "      <td>151.5500</td>\n",
       "      <td>C22 C26</td>\n",
       "      <td>S</td>\n",
       "      <td>NaN</td>\n",
       "      <td>NaN</td>\n",
       "      <td>Montreal, PQ / Chesterville, ON</td>\n",
       "    </tr>\n",
       "  </tbody>\n",
       "</table>\n",
       "</div>"
      ],
      "text/plain": [
       "   pclass  survived                                             name     sex  \\\n",
       "0       1         1                    Allen, Miss. Elisabeth Walton  female   \n",
       "1       1         1                   Allison, Master. Hudson Trevor    male   \n",
       "2       1         0                     Allison, Miss. Helen Loraine  female   \n",
       "3       1         0             Allison, Mr. Hudson Joshua Creighton    male   \n",
       "4       1         0  Allison, Mrs. Hudson J C (Bessie Waldo Daniels)  female   \n",
       "\n",
       "       age  sibsp  parch  ticket      fare    cabin embarked boat   body  \\\n",
       "0  29.0000      0      0   24160  211.3375       B5        S    2    NaN   \n",
       "1   0.9167      1      2  113781  151.5500  C22 C26        S   11    NaN   \n",
       "2   2.0000      1      2  113781  151.5500  C22 C26        S  NaN    NaN   \n",
       "3  30.0000      1      2  113781  151.5500  C22 C26        S  NaN  135.0   \n",
       "4  25.0000      1      2  113781  151.5500  C22 C26        S  NaN    NaN   \n",
       "\n",
       "                         home.dest  \n",
       "0                     St Louis, MO  \n",
       "1  Montreal, PQ / Chesterville, ON  \n",
       "2  Montreal, PQ / Chesterville, ON  \n",
       "3  Montreal, PQ / Chesterville, ON  \n",
       "4  Montreal, PQ / Chesterville, ON  "
      ]
     },
     "execution_count": 52,
     "metadata": {},
     "output_type": "execute_result"
    }
   ],
   "source": [
    "tn.head()"
   ]
  },
  {
   "cell_type": "code",
   "execution_count": 53,
   "id": "a2931888",
   "metadata": {},
   "outputs": [
    {
     "data": {
      "text/html": [
       "<div>\n",
       "<style scoped>\n",
       "    .dataframe tbody tr th:only-of-type {\n",
       "        vertical-align: middle;\n",
       "    }\n",
       "\n",
       "    .dataframe tbody tr th {\n",
       "        vertical-align: top;\n",
       "    }\n",
       "\n",
       "    .dataframe thead th {\n",
       "        text-align: right;\n",
       "    }\n",
       "</style>\n",
       "<table border=\"1\" class=\"dataframe\">\n",
       "  <thead>\n",
       "    <tr style=\"text-align: right;\">\n",
       "      <th>survived</th>\n",
       "      <th>0</th>\n",
       "      <th>1</th>\n",
       "    </tr>\n",
       "    <tr>\n",
       "      <th>sex</th>\n",
       "      <th></th>\n",
       "      <th></th>\n",
       "    </tr>\n",
       "  </thead>\n",
       "  <tbody>\n",
       "    <tr>\n",
       "      <th>female</th>\n",
       "      <td>127</td>\n",
       "      <td>339</td>\n",
       "    </tr>\n",
       "    <tr>\n",
       "      <th>male</th>\n",
       "      <td>682</td>\n",
       "      <td>161</td>\n",
       "    </tr>\n",
       "  </tbody>\n",
       "</table>\n",
       "</div>"
      ],
      "text/plain": [
       "survived    0    1\n",
       "sex               \n",
       "female    127  339\n",
       "male      682  161"
      ]
     },
     "execution_count": 53,
     "metadata": {},
     "output_type": "execute_result"
    }
   ],
   "source": [
    "tab1=pd.crosstab(tn.sex , tn.survived)\n",
    "tab1"
   ]
  },
  {
   "cell_type": "code",
   "execution_count": 54,
   "id": "6ea33f06",
   "metadata": {},
   "outputs": [],
   "source": [
    "from scipy.stats import chi2_contingency"
   ]
  },
  {
   "cell_type": "code",
   "execution_count": 55,
   "id": "f35f4ddf",
   "metadata": {},
   "outputs": [
    {
     "data": {
      "text/plain": [
       "(363.6179084388249,\n",
       " 4.589924936952945e-81,\n",
       " 1,\n",
       " array([[288.00152788, 177.99847212],\n",
       "        [520.99847212, 322.00152788]]))"
      ]
     },
     "execution_count": 55,
     "metadata": {},
     "output_type": "execute_result"
    }
   ],
   "source": [
    "chi2_contingency(tab1) # calculated value,pvalue,df,expeced value"
   ]
  },
  {
   "cell_type": "code",
   "execution_count": 56,
   "id": "4d387ad0",
   "metadata": {},
   "outputs": [],
   "source": [
    "cal_val , p_value ,dof ,expect = chi2_contingency(tab1)"
   ]
  },
  {
   "cell_type": "code",
   "execution_count": 57,
   "id": "fcaa481f",
   "metadata": {},
   "outputs": [
    {
     "data": {
      "text/plain": [
       "4.589924936952945e-81"
      ]
     },
     "execution_count": 57,
     "metadata": {},
     "output_type": "execute_result"
    }
   ],
   "source": [
    "p_value"
   ]
  },
  {
   "cell_type": "code",
   "execution_count": 58,
   "id": "5b43a1da",
   "metadata": {},
   "outputs": [],
   "source": [
    "def ch_sqare_test(tab):\n",
    "    from scipy.stats import chi2_contingency\n",
    "    cal_val , p_value,dof , expect =chi2_contingency(tab)\n",
    "    if p_value <.05:\n",
    "        print(\"since the P value is less than .05\" , p_value , \"we reject the null\")\n",
    "        print(\"ther is no relation b/w 2 variables\")\n",
    "    else: \n",
    "        print(\"since the P value is more than .05\" , p_value ,\"we fail to reject the null\" )\n",
    "        print(\"ther is relation b/w 2 variables\")"
   ]
  },
  {
   "cell_type": "code",
   "execution_count": 59,
   "id": "7169f5cf",
   "metadata": {},
   "outputs": [
    {
     "name": "stdout",
     "output_type": "stream",
     "text": [
      "since the P value is less than .05 4.589924936952945e-81 we reject the null\n",
      "ther is no relation b/w 2 variables\n"
     ]
    }
   ],
   "source": [
    "ch_sqare_test(tab1)"
   ]
  },
  {
   "cell_type": "code",
   "execution_count": null,
   "id": "018ce8f9",
   "metadata": {},
   "outputs": [],
   "source": [
    "# know what we should do "
   ]
  },
  {
   "cell_type": "code",
   "execution_count": 61,
   "id": "2a10c998",
   "metadata": {},
   "outputs": [
    {
     "data": {
      "text/html": [
       "<div>\n",
       "<style scoped>\n",
       "    .dataframe tbody tr th:only-of-type {\n",
       "        vertical-align: middle;\n",
       "    }\n",
       "\n",
       "    .dataframe tbody tr th {\n",
       "        vertical-align: top;\n",
       "    }\n",
       "\n",
       "    .dataframe thead th {\n",
       "        text-align: right;\n",
       "    }\n",
       "</style>\n",
       "<table border=\"1\" class=\"dataframe\">\n",
       "  <thead>\n",
       "    <tr style=\"text-align: right;\">\n",
       "      <th>pclass</th>\n",
       "      <th>1</th>\n",
       "      <th>2</th>\n",
       "      <th>3</th>\n",
       "    </tr>\n",
       "    <tr>\n",
       "      <th>survived</th>\n",
       "      <th></th>\n",
       "      <th></th>\n",
       "      <th></th>\n",
       "    </tr>\n",
       "  </thead>\n",
       "  <tbody>\n",
       "    <tr>\n",
       "      <th>0</th>\n",
       "      <td>123</td>\n",
       "      <td>158</td>\n",
       "      <td>528</td>\n",
       "    </tr>\n",
       "    <tr>\n",
       "      <th>1</th>\n",
       "      <td>200</td>\n",
       "      <td>119</td>\n",
       "      <td>181</td>\n",
       "    </tr>\n",
       "  </tbody>\n",
       "</table>\n",
       "</div>"
      ],
      "text/plain": [
       "pclass      1    2    3\n",
       "survived               \n",
       "0         123  158  528\n",
       "1         200  119  181"
      ]
     },
     "execution_count": 61,
     "metadata": {},
     "output_type": "execute_result"
    }
   ],
   "source": [
    "tab2=pd.crosstab(tn.survived , tn.pclass)\n",
    "tab2 # chances of class 3 is hard to survive"
   ]
  },
  {
   "cell_type": "code",
   "execution_count": 62,
   "id": "725080b1",
   "metadata": {},
   "outputs": [
    {
     "data": {
      "text/plain": [
       "(127.85915643930328,\n",
       " 1.7208259588256052e-28,\n",
       " 2,\n",
       " array([[199.62337662, 171.19404125, 438.18258212],\n",
       "        [123.37662338, 105.80595875, 270.81741788]]))"
      ]
     },
     "execution_count": 62,
     "metadata": {},
     "output_type": "execute_result"
    }
   ],
   "source": [
    "chi2_contingency(pd.crosstab(tn.survived , tn.pclass))"
   ]
  },
  {
   "cell_type": "code",
   "execution_count": 63,
   "id": "3750db67",
   "metadata": {},
   "outputs": [
    {
     "data": {
      "text/plain": [
       "pclass\n",
       "1    87.508992\n",
       "2    21.179196\n",
       "3    13.302889\n",
       "Name: fare, dtype: float64"
      ]
     },
     "execution_count": 63,
     "metadata": {},
     "output_type": "execute_result"
    }
   ],
   "source": [
    "tn.groupby('pclass').fare.mean() # high relation between fare and survival and pclass"
   ]
  },
  {
   "cell_type": "code",
   "execution_count": 70,
   "id": "079d8948",
   "metadata": {},
   "outputs": [
    {
     "data": {
      "text/plain": [
       "(493, 14)"
      ]
     },
     "execution_count": 70,
     "metadata": {},
     "output_type": "execute_result"
    }
   ],
   "source": [
    "# what is the chance of survival when person is male and travelling in class 3?\n",
    "tn1 = tn[(tn.sex == 'male') & (tn.pclass == 3)]\n",
    "tn1.shape"
   ]
  },
  {
   "cell_type": "code",
   "execution_count": 71,
   "id": "27ceb3c0",
   "metadata": {},
   "outputs": [
    {
     "data": {
      "text/html": [
       "<div>\n",
       "<style scoped>\n",
       "    .dataframe tbody tr th:only-of-type {\n",
       "        vertical-align: middle;\n",
       "    }\n",
       "\n",
       "    .dataframe tbody tr th {\n",
       "        vertical-align: top;\n",
       "    }\n",
       "\n",
       "    .dataframe thead th {\n",
       "        text-align: right;\n",
       "    }\n",
       "</style>\n",
       "<table border=\"1\" class=\"dataframe\">\n",
       "  <thead>\n",
       "    <tr style=\"text-align: right;\">\n",
       "      <th>survived</th>\n",
       "      <th>0</th>\n",
       "      <th>1</th>\n",
       "    </tr>\n",
       "    <tr>\n",
       "      <th>sex</th>\n",
       "      <th></th>\n",
       "      <th></th>\n",
       "    </tr>\n",
       "  </thead>\n",
       "  <tbody>\n",
       "    <tr>\n",
       "      <th>male</th>\n",
       "      <td>418</td>\n",
       "      <td>75</td>\n",
       "    </tr>\n",
       "  </tbody>\n",
       "</table>\n",
       "</div>"
      ],
      "text/plain": [
       "survived    0   1\n",
       "sex              \n",
       "male      418  75"
      ]
     },
     "execution_count": 71,
     "metadata": {},
     "output_type": "execute_result"
    }
   ],
   "source": [
    "pd.crosstab(tn1.sex , tn1.survived)"
   ]
  },
  {
   "cell_type": "code",
   "execution_count": 73,
   "id": "eea4d8ec",
   "metadata": {},
   "outputs": [
    {
     "data": {
      "text/plain": [
       "0.15212981744421908"
      ]
     },
     "execution_count": 73,
     "metadata": {},
     "output_type": "execute_result"
    }
   ],
   "source": [
    "75 / (75+418) # poor male survived in titanic shape"
   ]
  },
  {
   "cell_type": "code",
   "execution_count": null,
   "id": "b88f5756",
   "metadata": {},
   "outputs": [],
   "source": [
    "\n"
   ]
  }
 ],
 "metadata": {
  "kernelspec": {
   "display_name": "Python 3 (ipykernel)",
   "language": "python",
   "name": "python3"
  },
  "language_info": {
   "codemirror_mode": {
    "name": "ipython",
    "version": 3
   },
   "file_extension": ".py",
   "mimetype": "text/x-python",
   "name": "python",
   "nbconvert_exporter": "python",
   "pygments_lexer": "ipython3",
   "version": "3.10.5"
  }
 },
 "nbformat": 4,
 "nbformat_minor": 5
}
